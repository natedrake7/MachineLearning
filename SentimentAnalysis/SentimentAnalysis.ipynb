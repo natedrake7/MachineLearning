{
 "cells": [
  {
   "cell_type": "markdown",
   "metadata": {},
   "source": [
    "Import necessary libaries"
   ]
  },
  {
   "cell_type": "code",
   "execution_count": 1,
   "metadata": {},
   "outputs": [
    {
     "name": "stderr",
     "output_type": "stream",
     "text": [
      "[nltk_data] Downloading package stopwords to\n",
      "[nltk_data]     /home/natedrake7/nltk_data...\n",
      "[nltk_data]   Package stopwords is already up-to-date!\n"
     ]
    }
   ],
   "source": [
    "import pandas as pd\n",
    "import numpy as np\n",
    "import warnings\n",
    "from sklearn.preprocessing import LabelEncoder\n",
    "import nltk\n",
    "nltk.download('stopwords')\n",
    "from nltk.corpus import stopwords\n",
    "import spacy\n",
    "import re\n",
    "from unidecode import unidecode\n",
    "import unicodedata\n",
    "from sklearn.feature_extraction.text import TfidfVectorizer,CountVectorizer\n",
    "from sklearn.preprocessing import LabelEncoder\n",
    "from sklearn.model_selection import train_test_split,cross_validate,learning_curve,cross_val_score\n",
    "from sklearn.metrics import make_scorer, precision_score, recall_score, f1_score, accuracy_score\n",
    "from sklearn.linear_model import SGDClassifier,SGDRegressor,LogisticRegression\n",
    "import matplotlib.pyplot as plt\n",
    "pd.set_option('display.max_rows', None)\n",
    "pd.set_option('display.max_columns', None)\n",
    "pd.set_option('display.max_colwidth', None)"
   ]
  },
  {
   "cell_type": "markdown",
   "metadata": {},
   "source": [
    "Pre-Processing"
   ]
  },
  {
   "cell_type": "code",
   "execution_count": 2,
   "metadata": {},
   "outputs": [],
   "source": [
    "#Read csv files\n",
    "train_data = pd.read_csv('./Data/train_set.csv')\n",
    "test_data = pd.read_csv('./Data/test_set.csv')\n",
    "\n",
    "#Create Dataframes\n",
    "train_set = pd.DataFrame(train_data)\n",
    "test_set = pd.DataFrame(test_data)\n",
    "\n",
    "#Drop Party and New ID columns since we dont need them\n",
    "labels_to_drop = ['Party','New_ID']\n",
    "train_set = train_set.drop(columns=labels_to_drop)\n",
    "test_set = test_set.drop(columns=labels_to_drop)\n",
    "\n",
    "#Make all text lowercase\n",
    "train_set['Text'] = train_set['Text'].str.lower()\n",
    "test_set['Text'] = test_set['Text'].str.lower()\n",
    "\n",
    "#Remove accents from all text\n",
    "def remove_accents(input_str):\n",
    "    nfkd_form = unicodedata.normalize('NFKD', input_str)\n",
    "    return ''.join([c for c in nfkd_form if not unicodedata.combining(c)])\n",
    "\n",
    "train_set['Text'] = train_set['Text'].apply(remove_accents)\n",
    "test_set['Text'] = test_set['Text'].apply(remove_accents)\n",
    "\n",
    "#Remove stopwords and replace them with a single space\n",
    "stop = stopwords.words('greek')\n",
    "pat = r'\\b(?:{})\\b'.format('|'.join(stop))\n",
    "\n",
    "train_set['Text'] = train_set['Text'].str.replace(pat,'',regex=True)\n",
    "test_set['Text'] = test_set['Text'].str.replace(pat,'',regex=True)\n",
    "\n",
    "#Remove multiple white spaces and replace them with a single space\n",
    "train_set['Text'] = train_set['Text'].str.replace(r'\\s+',' ',regex=True) #remove multiple whitespaces\n",
    "test_set['Text'] = test_set['Text'].str.replace(r'\\s+',' ',regex=True) #remove multiple whitespaces\n",
    "\n",
    "#Remove links and replace them with a single space\n",
    "train_set['Text'] = train_set['Text'].apply(lambda x: re.sub('https?://[A-Za-z0-9./]+','',x)) #remove links\n",
    "test_set['Text'] = test_set['Text'].apply(lambda x: re.sub('https?://[A-Za-z0-9./]+','',x)) #remove links\n",
    "\n",
    "#Replace non greek words with single whitespace\n",
    "train_set['Text'] = train_set['Text'].apply(lambda x: re.sub(r'[^α-ωΑ-Ω0-9\\s]', ' ', x, flags=re.UNICODE))      \n",
    "test_set['Text'] = test_set['Text'].apply(lambda x: re.sub(r'[^α-ωΑ-Ω0-9\\s]', ' ', x, flags=re.UNICODE))\n",
    "\n",
    "#Find retweets and replace them withn single whitespace\n",
    "train_set['Text'] = train_set['Text'].apply(lambda x: re.sub(r'^RT[\\s]+', '', x))\n",
    "test_set['Text'] = test_set['Text'].apply(lambda x: re.sub(r'^RT[\\s]+', '', x))\n",
    "\n",
    "#Load lemmatizer\n",
    "nlp = spacy.load(\"el_core_news_sm\")\n",
    "\n",
    "def lemmatize_text(text):\n",
    "    doc = nlp(text)\n",
    "    lemmatized_text = \" \".join([token.lemma_ for token in doc])\n",
    "    return lemmatized_text\n",
    "\n",
    "#Lemmatize text to replace words with their dictionary value\n",
    "train_set['Text'] = train_set['Text'].apply(lemmatize_text)\n",
    "test_set['Text'] = test_set['Text'].apply(lemmatize_text)\n"
   ]
  },
  {
   "cell_type": "markdown",
   "metadata": {},
   "source": [
    "Save Pre Processed Dataframe"
   ]
  },
  {
   "cell_type": "code",
   "execution_count": 5,
   "metadata": {},
   "outputs": [],
   "source": [
    "train_set.to_csv('processed_df')\n",
    "test_set.to_csv('processed_test')"
   ]
  },
  {
   "cell_type": "markdown",
   "metadata": {},
   "source": [
    "Read Pre Processed Dataframe"
   ]
  },
  {
   "cell_type": "code",
   "execution_count": 6,
   "metadata": {},
   "outputs": [],
   "source": [
    "data = pd.read_csv('processed_df')\n",
    "train_set = pd.DataFrame(data)\n",
    "\n",
    "data = pd.read_csv('processed_test')\n",
    "test_set = pd.DataFrame(data)"
   ]
  },
  {
   "cell_type": "markdown",
   "metadata": {},
   "source": [
    "Vectorization and Label Encoding"
   ]
  },
  {
   "cell_type": "code",
   "execution_count": 8,
   "metadata": {},
   "outputs": [],
   "source": [
    "vectorizer = CountVectorizer()\n",
    "encoder = LabelEncoder()\n",
    "\n",
    "#train_set = train_set.head(10000)\n",
    "\n",
    "\n",
    "X_train = vectorizer.fit_transform(train_set['Text'])\n",
    "X_test = vectorizer.fit_transform(test_set['Text'])\n",
    "\n",
    "Y_train = encoder.fit_transform(train_set['Sentiment'])\n",
    "\n",
    "X_train, X_val, Y_train, Y_val = train_test_split(X_train, Y_train, test_size=0.3)"
   ]
  },
  {
   "cell_type": "markdown",
   "metadata": {},
   "source": [
    "Classification:"
   ]
  },
  {
   "cell_type": "code",
   "execution_count": 9,
   "metadata": {},
   "outputs": [
    {
     "name": "stdout",
     "output_type": "stream",
     "text": [
      "F1 Score Train: 1.0\n",
      "F1 Score Validation: 0.2329402863529529\n",
      "F1 Score Train: 0.988798872146125\n",
      "F1 Score Validation: 0.3514023583158809\n",
      "F1 Score Train: 0.9807877932909443\n",
      "F1 Score Validation: 0.35901060903724796\n",
      "F1 Score Train: 0.973175770460373\n",
      "F1 Score Validation: 0.3642578214285091\n",
      "F1 Score Train: 0.9645011201263978\n",
      "F1 Score Validation: 0.35478692945569984\n",
      "F1 Score Train: 0.9539179499275107\n",
      "F1 Score Validation: 0.36602800473589875\n",
      "F1 Score Train: 0.9474993145159575\n",
      "F1 Score Validation: 0.35856759257053417\n",
      "F1 Score Train: 0.9346402019583901\n",
      "F1 Score Validation: 0.3639862341421231\n",
      "F1 Score Train: 0.9314497045811545\n",
      "F1 Score Validation: 0.36786439083584754\n",
      "F1 Score Train: 0.9230133623167461\n",
      "F1 Score Validation: 0.3733058749304932\n",
      "0.95977840893236\n",
      "0.34921501018051876\n"
     ]
    },
    {
     "data": {
      "image/png": "[encoded data removed]",
      "text/plain": [
       "<Figure size 640x480 with 1 Axes>"
      ]
     },
     "metadata": {},
     "output_type": "display_data"
    }
   ],
   "source": [
    "list_f1=[]\n",
    "list_f1_train=[]\n",
    "list_sample_size=[]\n",
    "\n",
    "for times in range(10):\n",
    "  # training\n",
    "  #\n",
    "  X, X_unused, y, y_unused = train_test_split(X_train, Y_train, test_size=1 - (times * 0.1 + 0.001))\n",
    "\n",
    "  classifier = LogisticRegression(max_iter=2000,C=10.0,multi_class='auto',solver='lbfgs')\n",
    "  #classifier = SGDClassifier(loss='log_loss',penalty='elasticnet',alpha=1e-5,max_iter=2000,early_stopping = True)\n",
    "  classifier.fit(X, np.ravel(y))\n",
    "\n",
    "  results_train = classifier.predict(X)\n",
    "\n",
    "  # validation\n",
    "  #\n",
    "  results = classifier.predict(X_val)\n",
    "\n",
    "  # score\n",
    "  #\n",
    "  f1_train = f1_score(y, results_train,average='weighted')\n",
    "  print(\"F1 Score Train: \" + str(f1_train))\n",
    "\n",
    "  f1 = f1_score(Y_val, results,average='weighted')\n",
    "  print(\"F1 Score Validation: \" + str(f1))\n",
    "\n",
    "  list_f1.append(f1)\n",
    "  list_f1_train.append(f1_train)\n",
    "  list_sample_size.append((times * 0.1 + 0.1))\n",
    "\n",
    "plt.plot(list_sample_size, list_f1)\n",
    "plt.plot(list_sample_size, list_f1_train)\n",
    "\n",
    "plt.ylim(ymin=0)\n",
    "plt.legend([\"Validation\", \"Training\"])\n",
    "\n",
    "print(sum(list_f1_train) / len(list_f1_train))\n",
    "print(sum(list_f1) / len(list_f1))"
   ]
  },
  {
   "cell_type": "markdown",
   "metadata": {},
   "source": [
    "Logistic Regression Classifier"
   ]
  },
  {
   "cell_type": "markdown",
   "metadata": {},
   "source": [
    "$\n",
    "\\begin{array}{|c|c|c|c|c|c|}\n",
    "\\hline\n",
    "\\text{Penalty} & \\text{C} & \\text{Multi Class} & \\text{Max Iterations} & \\text{Solver} & \\text{Avg F1-Score}\\\\\n",
    "\\hline\n",
    "\\text{L2} & \\text{1.0} & \\text{auto} & \\text{100} & \\text{lbfgs} & \\text{34.8\\%}\\\\\n",
    "\\hline\n",
    "\\text{L2} & \\text{1.0} & \\text{auto} & \\text{500} & \\text{lbfgs} & \\text{35.7\\%}\\\\\n",
    "\\hline\n",
    "\\text{L2} & \\text{1.0} & \\text{auto} & \\text{1000} & \\text{lbfgs} & \\text{35.8\\%}\\\\\n",
    "\\hline\n",
    "\\text{L2} & \\text{1.0} & \\text{auto} & \\text{1000} & \\text{lbfgs} & \\text{35.6\\%}\\\\\n",
    "\\hline\n",
    "\\text{L2} & \\text{1.0} & \\text{auto} & \\text{2000} & \\text{lbfgs} & \\text{36.2\\%}\\\\\n",
    "\\hline\n",
    "\\text{L2} & \\text{0.1} & \\text{auto} & \\text{2000} & \\text{lbfgs} & \\text{36.1\\%}\\\\\n",
    "\\hline\n",
    "\\text{L2} & \\text{5.0} & \\text{auto} & \\text{2000} & \\text{lbfgs} & \\text{35.7\\%}\\\\\n",
    "\\hline\n",
    "\\text{L2} & \\text{10.0} & \\text{auto} & \\text{2000} & \\text{lbfgs} & \\text{35.8\\%}\\\\\n",
    "\\hline\n",
    "\\text{L2} & \\text{20.0} & \\text{auto} & \\text{2000} & \\text{lbfgs} & \\text{34.9\\%}\\\\\n",
    "\\hline\n",
    "\\text{L2} & \\text{100.0} & \\text{auto} & \\text{2000} & \\text{lbfgs} & \\text{35.2\\%}\\\\\n",
    "\\hline\n",
    "\\end{array}\n",
    "$\n",
    "C > 10.0 ,really great f1 training values > 0.95 but really long time to execute.\n",
    "C = 100.0 took : 4 minutes 32.8 seconds with avg training f1: 96.4% but only 35.2% avg f1 test."
   ]
  },
  {
   "cell_type": "markdown",
   "metadata": {},
   "source": [
    "Logistic Regression with SGD"
   ]
  },
  {
   "cell_type": "markdown",
   "metadata": {},
   "source": [
    "$\n",
    "\\begin{array}{|c|c|c|c|c|c|}\n",
    "\\hline\n",
    "\\text{Penalty} & \\text{C} & \\text{Multi Class} & \\text{Max Iterations} & \\text{Solver} & \\text{Avg F1-Score}\\\\\n",
    "\\hline\n",
    "\\text{L2} & \\text{1.0} & \\text{auto} & \\text{100} & \\text{lbfgs} & \\text{36.0\\%}\\\\\n",
    "\\hline\n",
    "\\text{L2} & \\text{1.0} & \\text{auto} & \\text{500} & \\text{lbfgs} & \\text{35.7\\%}\\\\\n",
    "\\hline\n",
    "\\text{L2} & \\text{1.0} & \\text{auto} & \\text{1000} & \\text{lbfgs} & \\text{35.8\\%}\\\\\n",
    "\\hline\n",
    "\\text{L2} & \\text{1.0} & \\text{auto} & \\text{1000} & \\text{lbfgs} & \\text{35.6\\%}\\\\\n",
    "\\hline\n",
    "\\end{array}\n",
    "$"
   ]
  }
 ],
 "metadata": {
  "kernelspec": {
   "display_name": "Python 3",
   "language": "python",
   "name": "python3"
  },
  "language_info": {
   "codemirror_mode": {
    "name": "ipython",
    "version": 3
   },
   "file_extension": ".py",
   "mimetype": "text/x-python",
   "name": "python",
   "nbconvert_exporter": "python",
   "pygments_lexer": "ipython3",
   "version": "3.10.12"
  }
 },
 "nbformat": 4,
 "nbformat_minor": 2
}
