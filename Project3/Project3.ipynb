{
 "cells": [
  {
   "attachments": {},
   "cell_type": "markdown",
   "metadata": {},
   "source": [
    "This is a project implemented by Konstantinos Lampropoulos $$ $$\n",
    "AM:1115201800092"
   ]
  },
  {
   "attachments": {},
   "cell_type": "markdown",
   "metadata": {},
   "source": [
    "Imports"
   ]
  },
  {
   "cell_type": "code",
   "execution_count": 1,
   "metadata": {},
   "outputs": [],
   "source": [
    "import numpy as np\n",
    "from sklearn.preprocessing import LabelEncoder\n",
    "import torch"
   ]
  },
  {
   "attachments": {},
   "cell_type": "markdown",
   "metadata": {},
   "source": [
    "Load Datasets"
   ]
  },
  {
   "cell_type": "code",
   "execution_count": 3,
   "metadata": {},
   "outputs": [],
   "source": [
    "#Load Train set\n",
    "X_train = np.load('./music_genre_data_di/train/mfccs/X.npy')\n",
    "Labels_train = np.load('./music_genre_data_di/train/mfccs/labels.npy')\n",
    "\n",
    "#Load Validation set\n",
    "X_val = np.load('./music_genre_data_di/val/mfccs/X.npy')\n",
    "Labels_val = np.load('./music_genre_data_di/val/mfccs/labels.npy')\n",
    "\n",
    "#Load Test set\n",
    "X_test = np.load('./music_genre_data_di/test/mfccs/X.npy')\n",
    "Labels_test = np.load('./music_genre_data_di/test/mfccs/labels.npy')"
   ]
  },
  {
   "attachments": {},
   "cell_type": "markdown",
   "metadata": {},
   "source": [
    "Encode the labels"
   ]
  },
  {
   "cell_type": "code",
   "execution_count": 4,
   "metadata": {},
   "outputs": [],
   "source": [
    "encoder  = LabelEncoder()\n",
    "\n",
    "Labels_train_encoded = encoder.fit_transform(Labels_train)\n",
    "\n",
    "Labels_val_encoded = encoder.fit_transform(Labels_val)\n",
    "\n",
    "Labels_test_encoded = encoder.fit_transform(Labels_test)"
   ]
  },
  {
   "cell_type": "code",
   "execution_count": 5,
   "metadata": {},
   "outputs": [
    {
     "name": "stdout",
     "output_type": "stream",
     "text": [
      "Gpu available\n"
     ]
    }
   ],
   "source": [
    "if torch.cuda.is_available():\n",
    "    print(\"Gpu available\")"
   ]
  },
  {
   "cell_type": "code",
   "execution_count": null,
   "metadata": {},
   "outputs": [],
   "source": []
  }
 ],
 "metadata": {
  "kernelspec": {
   "display_name": "Python 3",
   "language": "python",
   "name": "python3"
  },
  "language_info": {
   "codemirror_mode": {
    "name": "ipython",
    "version": 3
   },
   "file_extension": ".py",
   "mimetype": "text/x-python",
   "name": "python",
   "nbconvert_exporter": "python",
   "pygments_lexer": "ipython3",
   "version": "3.10.6"
  },
  "orig_nbformat": 4
 },
 "nbformat": 4,
 "nbformat_minor": 2
}
