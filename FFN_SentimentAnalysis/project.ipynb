{
 "cells": [
  {
   "cell_type": "code",
   "execution_count": 1,
   "metadata": {},
   "outputs": [
    {
     "name": "stderr",
     "output_type": "stream",
     "text": [
      "[nltk_data] Downloading package stopwords to\n",
      "[nltk_data]     /home/natedrake7/nltk_data...\n",
      "[nltk_data]   Package stopwords is already up-to-date!\n",
      "[nltk_data] Downloading package punkt to /home/natedrake7/nltk_data...\n",
      "[nltk_data]   Package punkt is already up-to-date!\n"
     ]
    },
    {
     "data": {
      "text/plain": [
       "True"
      ]
     },
     "execution_count": 1,
     "metadata": {},
     "output_type": "execute_result"
    }
   ],
   "source": [
    "from gensim.models import Word2Vec\n",
    "from nltk.tokenize import word_tokenize\n",
    "import nltk\n",
    "nltk.download('stopwords')\n",
    "from nltk.corpus import stopwords\n",
    "import pandas as pd\n",
    "import numpy as np\n",
    "from sklearn.preprocessing import LabelEncoder\n",
    "from sklearn.model_selection import train_test_split\n",
    "import torch\n",
    "import torch.nn as nn \n",
    "import torch.nn.functional as F \n",
    "from torch.nn.utils.rnn import pad_sequence\n",
    "from torch.utils.data import TensorDataset, DataLoader\n",
    "from torchmetrics.classification import ConfusionMatrix,F1Score\n",
    "import unicodedata\n",
    "import spacy\n",
    "import re\n",
    "import matplotlib.pyplot as plt\n",
    "from sklearn.feature_extraction.text import TfidfVectorizer\n",
    "nltk.download('punkt')"
   ]
  },
  {
   "cell_type": "markdown",
   "metadata": {},
   "source": [
    "Pre-Processing"
   ]
  },
  {
   "cell_type": "code",
   "execution_count": null,
   "metadata": {},
   "outputs": [],
   "source": [
    "#Read csv files\n",
    "train_set = pd.read_csv('./Data/train_set.csv')\n",
    "valid_set = pd.read_csv('./Data/valid_set.csv')\n",
    "test_set = pd.read_csv('./Data/test_set.csv')\n",
    "\n",
    "\n",
    "\n",
    "#Drop Party and New ID columns since we dont need them\n",
    "labels_to_drop = ['Party','New_ID']\n",
    "train_set = train_set.drop(columns=labels_to_drop)\n",
    "valid_set = valid_set.drop(columns=labels_to_drop)\n",
    "test_set = test_set.drop(columns=['Party'])\n",
    "\n",
    "#Make all text lowercase\n",
    "train_set['Text'] = train_set['Text'].str.lower()\n",
    "valid_set['Text'] = valid_set['Text'].str.lower()\n",
    "test_set['Text'] = test_set['Text'].str.lower()\n",
    "\n",
    "train_set['Text'] = train_set['Text'].apply(lambda x: re.sub(r'#', '', x))\n",
    "valid_set['Text'] = valid_set['Text'].apply(lambda x: re.sub(r'#', '', x))\n",
    "test_set['Text'] = test_set['Text'].apply(lambda x: re.sub(r'#', '', x))\n",
    "\n",
    "#Remove accents from all text\n",
    "def remove_accents(input_str):\n",
    "    nfkd_form = unicodedata.normalize('NFKD', input_str)\n",
    "    return ''.join([c for c in nfkd_form if not unicodedata.combining(c)])\n",
    "\n",
    "train_set['Text'] = train_set['Text'].apply(remove_accents)\n",
    "valid_set['Text'] = valid_set['Text'].apply(remove_accents)\n",
    "test_set['Text'] = test_set['Text'].apply(remove_accents)\n",
    "\n",
    "#Remove stopwords and replace them with a single space\n",
    "stop = stopwords.words('greek')\n",
    "pat = r'\\b(?:{})\\b'.format('|'.join(stop))\n",
    "\n",
    "train_set['Text'] = train_set['Text'].str.replace(pat,'',regex=True)\n",
    "valid_set['Text'] = valid_set['Text'].str.replace(pat,'',regex=True)\n",
    "test_set['Text'] = test_set['Text'].str.replace(pat,'',regex=True)\n",
    "\n",
    "#Remove multiple white spaces and replace them with a single space\n",
    "train_set['Text'] = train_set['Text'].str.replace(r'\\s+',' ',regex=True) #remove multiple whitespaces\n",
    "valid_set['Text'] = valid_set['Text'].str.replace(r'\\s+',' ',regex=True) #remove multiple whitespaces\n",
    "test_set['Text'] = test_set['Text'].str.replace(r'\\s+',' ',regex=True) #remove multiple whitespaces\n",
    "\n",
    "#Remove links and replace them with a single space\n",
    "train_set['Text'] = train_set['Text'].apply(lambda x: re.sub('https?://[A-Za-z0-9./]+','',x)) #remove links\n",
    "valid_set['Text'] = valid_set['Text'].apply(lambda x: re.sub('https?://[A-Za-z0-9./]+','',x)) #remove links\n",
    "test_set['Text'] = test_set['Text'].apply(lambda x: re.sub('https?://[A-Za-z0-9./]+','',x)) #remove links\n",
    "\n",
    "#Replace non greek words with single whitespace\n",
    "train_set['Text'] = train_set['Text'].apply(lambda x: re.sub(r'[^α-ωΑ-Ω0-9\\s]', ' ', x, flags=re.UNICODE))      \n",
    "valid_set['Text'] = valid_set['Text'].apply(lambda x: re.sub(r'[^α-ωΑ-Ω0-9\\s]', ' ', x, flags=re.UNICODE))      \n",
    "test_set['Text'] = test_set['Text'].apply(lambda x: re.sub(r'[^α-ωΑ-Ω0-9\\s]', ' ', x, flags=re.UNICODE))\n",
    "\n",
    "#Find retweets and replace them withn single whitespace\n",
    "train_set['Text'] = train_set['Text'].apply(lambda x: re.sub(r'^RT[\\s]+', '', x))\n",
    "valid_set['Text'] = valid_set['Text'].apply(lambda x: re.sub(r'^RT[\\s]+', '', x))\n",
    "test_set['Text'] = test_set['Text'].apply(lambda x: re.sub(r'^RT[\\s]+', '', x))\n",
    "\n",
    "#Load lemmatizer\n",
    "nlp = spacy.load(\"el_core_news_sm\")\n",
    "\n",
    "def lemmatize_text(text):\n",
    "    doc = nlp(text)\n",
    "    lemmatized_text = \" \".join([token.lemma_ for token in doc])\n",
    "    return lemmatized_text\n",
    "\n",
    "#Lemmatize text to replace words with their dictionary value\n",
    "train_set['Text'] = train_set['Text'].apply(lemmatize_text)\n",
    "valid_set['Text'] = valid_set['Text'].apply(lemmatize_text)\n",
    "test_set['Text'] = test_set['Text'].apply(lemmatize_text)"
   ]
  },
  {
   "cell_type": "markdown",
   "metadata": {},
   "source": [
    "Save Pre-Processed Data"
   ]
  },
  {
   "cell_type": "code",
   "execution_count": null,
   "metadata": {},
   "outputs": [],
   "source": [
    "train_set.to_csv('processed_df',index=False)\n",
    "valid_set.to_csv('processed_valid',index=False)\n",
    "test_set.to_csv('processed_test',index=False)"
   ]
  },
  {
   "cell_type": "markdown",
   "metadata": {},
   "source": [
    "Load Pre-Processed Data"
   ]
  },
  {
   "cell_type": "code",
   "execution_count": 2,
   "metadata": {},
   "outputs": [],
   "source": [
    "train_set = pd.read_csv('processed_df')\n",
    "\n",
    "test_set = pd.read_csv('processed_test')\n",
    "\n",
    "valid_set = pd.read_csv('processed_valid')"
   ]
  },
  {
   "cell_type": "markdown",
   "metadata": {},
   "source": [
    "Tokenize Text and create W2V Model"
   ]
  },
  {
   "cell_type": "code",
   "execution_count": 3,
   "metadata": {},
   "outputs": [],
   "source": [
    "#Tokenize text so word2vec can utilize it\n",
    "train_set['Tokenized_Text'] = train_set['Text'].apply(lambda x: word_tokenize(x))\n",
    "\n",
    "#Create Word2Vec models\n",
    "model = Word2Vec(sentences=train_set['Tokenized_Text'], vector_size=300,window=5,min_count=2,negative = 10)\n",
    "\n",
    "#Train the model\n",
    "model.train(train_set['Tokenized_Text'], total_examples= len(train_set['Text']), epochs=30)\n",
    "\n",
    "#Save the model\n",
    "model.save(\"./Data/word2vec_new.model\")"
   ]
  },
  {
   "cell_type": "markdown",
   "metadata": {},
   "source": [
    "Load self-trained Word2Vec Model"
   ]
  },
  {
   "cell_type": "code",
   "execution_count": 3,
   "metadata": {},
   "outputs": [],
   "source": [
    "word2vec_model = Word2Vec.load('./Data/word2vec_new.model')"
   ]
  },
  {
   "cell_type": "markdown",
   "metadata": {},
   "source": [
    "Tokenize Texts"
   ]
  },
  {
   "cell_type": "code",
   "execution_count": 4,
   "metadata": {},
   "outputs": [],
   "source": [
    "#Tokenize all texts\n",
    "valid_set['Tokenized_Text'] = valid_set['Text'].apply(lambda x: word_tokenize(x))\n",
    "test_set['Tokenized_Text'] = test_set['Text'].apply(lambda x: word_tokenize(x))\n",
    "train_set['Tokenized_Text'] = train_set['Text'].apply(lambda x: word_tokenize(x))"
   ]
  },
  {
   "cell_type": "code",
   "execution_count": 5,
   "metadata": {},
   "outputs": [
    {
     "name": "stdout",
     "output_type": "stream",
     "text": [
      "[('Μητσοτακης', 0.5311290621757507), ('συρρικνωσει', 0.3812375068664551), ('φορων', 0.3534460961818695), ('μεγαλοεπιχειρηματιος', 0.3458263874053955), ('προχωρησει', 0.3422377109527588), ('μητσοτακη', 0.339499831199646), ('λουτσεσκος', 0.33809322118759155), ('πειστικος', 0.321236252784729), ('περικοπω', 0.3175898790359497), ('διαλογο', 0.31199774146080017)]\n"
     ]
    }
   ],
   "source": [
    "print(word2vec_model.wv.most_similar('μητσοτακης'))"
   ]
  },
  {
   "cell_type": "markdown",
   "metadata": {},
   "source": [
    "Encode Labels"
   ]
  },
  {
   "cell_type": "code",
   "execution_count": 57,
   "metadata": {},
   "outputs": [
    {
     "name": "stdout",
     "output_type": "stream",
     "text": [
      "['NEGATIVE' 'NEUTRAL' 'POSITIVE']\n",
      "[0 1 2]\n"
     ]
    }
   ],
   "source": [
    "encoder  = LabelEncoder() #initialize label encoder so we can set integer values to the label unique values\n",
    "\n",
    "X_train_labels = encoder.fit_transform(train_set['Sentiment']) #Transform the labels\n",
    "X_valid_labels = encoder.fit_transform(valid_set['Sentiment']) #For both training and validation\n",
    "\n",
    "print(encoder.classes_)\n",
    "print(encoder.transform(encoder.classes_))\n",
    "labels = {0 : 'NEGATIVE',1 : 'NEUTRAL',2 : 'POSITIVE'}"
   ]
  },
  {
   "cell_type": "markdown",
   "metadata": {},
   "source": [
    "Convert Tweets to Vectors"
   ]
  },
  {
   "cell_type": "code",
   "execution_count": 7,
   "metadata": {},
   "outputs": [],
   "source": [
    "def ConvertTextToVector(text): \n",
    "    word_emdeddings = []\n",
    "    for sentence in text: #iterate the description column\n",
    "        vectors = [word2vec_model.wv[word] for word in sentence if word in word2vec_model.wv] #for each word in each row of the description column\n",
    "        if vectors: #check if the word exists in the vocabulary and get the vectors for each word\n",
    "            mean = np.mean(vectors, axis=0) #calculate the mean of the vectors\n",
    "        else:\n",
    "            np.zeros(word2vec_model.vector_size) #add an array of 200 with elements of 0\n",
    "        word_emdeddings.append(mean) #append the vector the the list\n",
    "    return np.array(word_emdeddings)\n",
    "\n",
    "wordvec_train_arrays = ConvertTextToVector(train_set['Text']) #Convert all tweets to vectors\n",
    "wordvec_valid_arrays = ConvertTextToVector(valid_set['Text'])#By finding the mean of all the vectors\n",
    "wordvec_test_arrays = ConvertTextToVector(test_set['Text'])#Of all the words in each tweet\n",
    "\n"
   ]
  },
  {
   "cell_type": "markdown",
   "metadata": {},
   "source": [
    "Check Shape"
   ]
  },
  {
   "cell_type": "code",
   "execution_count": 8,
   "metadata": {},
   "outputs": [
    {
     "data": {
      "text/plain": [
       "(36630, 300)"
      ]
     },
     "execution_count": 8,
     "metadata": {},
     "output_type": "execute_result"
    }
   ],
   "source": [
    "wordvec_train_arrays.shape"
   ]
  },
  {
   "cell_type": "markdown",
   "metadata": {},
   "source": [
    "Create Tensorflow tensors"
   ]
  },
  {
   "cell_type": "code",
   "execution_count": 29,
   "metadata": {},
   "outputs": [],
   "source": [
    "batch_size = 16\n",
    "#Train set\n",
    "X_train_tensor = torch.tensor(wordvec_train_arrays,dtype=torch.float) #Create a tensor from the tweets\n",
    "Labels_train_tensor = torch.tensor(X_train_labels,dtype=torch.long) #create a torch tensor for the labels from the numpy array\n",
    "Dataset = TensorDataset(X_train_tensor,Labels_train_tensor) #Create a dataset\n",
    "Train_set = DataLoader(Dataset,batch_size=batch_size,shuffle=True) #Create the train set\n",
    "\n",
    "\n",
    "#Val set\n",
    "X_val_tensor = torch.tensor(wordvec_valid_arrays,dtype=torch.float)#Create a tensor from the tweets\n",
    "Labels_val_tensor = torch.tensor(X_valid_labels,dtype=torch.long) #create a torch tensor for the labels from the numpy array\n",
    "Dataset = TensorDataset(X_val_tensor,Labels_val_tensor) #Create a dataset\n",
    "Validation_set = DataLoader(Dataset,batch_size=batch_size,shuffle=True) #Create the validation set\n",
    "\n",
    "\n",
    "X_test_tensor = torch.tensor(wordvec_test_arrays,dtype=torch.float)#Create a tensor from the tweets\n",
    "Dataset = TensorDataset(X_test_tensor) #Create a dataset\n",
    "Test_set = DataLoader(Dataset,batch_size=batch_size,shuffle=True) #Create the test set"
   ]
  },
  {
   "cell_type": "markdown",
   "metadata": {},
   "source": [
    "Set Gpu Or Cpu"
   ]
  },
  {
   "cell_type": "code",
   "execution_count": 10,
   "metadata": {},
   "outputs": [
    {
     "name": "stdout",
     "output_type": "stream",
     "text": [
      "Device = cuda\n"
     ]
    }
   ],
   "source": [
    "if torch.cuda.is_available(): #if nvidia gpu is available\n",
    "   device=\"cuda\" #set devide to cuda since GPUs are much faster at deep learning\n",
    "else: \n",
    "   device=\"cpu\" #else set CPU\n",
    "print(\"Device =\",device)"
   ]
  },
  {
   "cell_type": "markdown",
   "metadata": {},
   "source": [
    "FeedForward Neural Network"
   ]
  },
  {
   "cell_type": "code",
   "execution_count": 11,
   "metadata": {},
   "outputs": [],
   "source": [
    "class FeedForwardNeuralNetwork(nn.Module):\n",
    "    def __init__(self, dropout_rate= 0.5): #initialize feedforward network\n",
    "        super(FeedForwardNeuralNetwork, self).__init__()\n",
    "        self.linear1 = nn.Linear(300, 128) #First linear layer,input is 300 which is the dimension of our tweets-vectors\n",
    "        self.dropout1 = nn.Dropout(dropout_rate) #set for each fully connected layer the dropout rate\n",
    "        self.linear2 = nn.Linear(128, 64)\n",
    "        self.dropout2 = nn.Dropout(dropout_rate) #set for each fully connected layer the dropout rate\n",
    "        self.linear3 = nn.Linear(64, 32)\n",
    "        self.dropout3 = nn.Dropout(dropout_rate) #set for each fully connected layer the dropout rate\n",
    "        self.linear4 = nn.Linear(32, 3) #3 outputs since we have 3 classes\n",
    "        \n",
    "    def forward(self, x):\n",
    "        h1 = F.relu(self.linear1(x))\n",
    "        h2 = F.relu(self.linear2(h1))\n",
    "        h3 = F.relu(self.linear3(h2))\n",
    "        out = self.linear4(h3)\n",
    "        return out"
   ]
  },
  {
   "cell_type": "markdown",
   "metadata": {},
   "source": [
    "Train Function"
   ]
  },
  {
   "cell_type": "code",
   "execution_count": 12,
   "metadata": {},
   "outputs": [],
   "source": [
    "def Train(dataLoader,model,loss_fn,optimizer):\n",
    "    losses = []\n",
    "    f1 = 0 #declare f1 score to 0\n",
    "    f1_score = F1Score(task='multiclass',num_classes=3,average='weighted').to(device)\n",
    "    counter = 0\n",
    "    for batch, (X,y) in enumerate(dataLoader): #iterate all the dataset\n",
    "\n",
    "        X = X.to(device) #Load variables to GPU\n",
    "        y = y.to(device) #Load variables to GPU\n",
    "        \n",
    "        pred = model(X) #predict the label\n",
    "\n",
    "        loss = loss_fn(pred,y) #find the loss between the prediction and the true label\n",
    "        losses.append(loss.item())\n",
    "\n",
    "        #BackPropagation\n",
    "        optimizer.zero_grad() #reset all the gradients\n",
    "\n",
    "        loss.backward()\n",
    "        \n",
    "        optimizer.step() #perform a step\n",
    "\n",
    "        f1 += f1_score(pred.argmax(1),y) #calculate the f1 score\n",
    "        counter+=1\n",
    "    f1 /= counter #find the average f1 score    \n",
    "    return f1, sum(losses)/len(losses)"
   ]
  },
  {
   "cell_type": "markdown",
   "metadata": {},
   "source": [
    "Validation Function"
   ]
  },
  {
   "cell_type": "code",
   "execution_count": 13,
   "metadata": {},
   "outputs": [],
   "source": [
    "def Validation(dataloader,model,loss_fn):\n",
    "    size = len(dataloader.dataset) #get the size of the dataset\n",
    "    test_loss,correct,f1 = 0,0,0 #declare variables\n",
    "    f1_score = F1Score(task='multiclass',num_classes=3,average='weighted').to(device) \n",
    "    counter = 0\n",
    "\n",
    "    with torch.no_grad(): #disable gradient caclulation since we are testing not training\n",
    "        for X,y in dataloader:\n",
    "\n",
    "            X = X.to(device) #Load to GPU\n",
    "            y = y.to(device) #Load to GPU\n",
    "\n",
    "            pred = model(X) #predict the label\n",
    "\n",
    "            test_loss += loss_fn(pred,y).item() #find the loss_fn\n",
    "            \n",
    "            correct += (pred.argmax(1) == y).type(torch.float).sum().item() #find the accuracy\n",
    "            f1 += f1_score(pred.argmax(1),y) #find the f1 score\n",
    "            counter +=1\n",
    "\n",
    "    test_loss /= counter #compute the average loss\n",
    "    correct /= size #average accuracy\n",
    "    f1 /= counter #average f1 score\n",
    "    confmat = ConfusionMatrix('multiclass',num_classes=3).to(device)\n",
    "    confusion_matrix = confmat(pred,y) #find the confusion matrix\n",
    "    \n",
    "    return f1,test_loss,correct,confusion_matrix"
   ]
  },
  {
   "cell_type": "markdown",
   "metadata": {},
   "source": [
    "Learning Curve Function"
   ]
  },
  {
   "cell_type": "code",
   "execution_count": 14,
   "metadata": {},
   "outputs": [],
   "source": [
    "def plot_loss_learning_curve(train_losses, val_losses):\n",
    "    epochs = range(1, len(train_losses) + 1)\n",
    "\n",
    "    plt.plot(epochs,train_losses, label='Training Loss')\n",
    "    plt.plot(epochs,val_losses, label='Validation Loss')\n",
    "\n",
    "    plt.xlabel('Epoch')\n",
    "    plt.ylabel('Loss')\n",
    "\n",
    "    plt.legend()\n",
    "\n",
    "    plt.title('Learning Curve')\n",
    "    \n",
    "    plt.show()\n",
    "\n",
    "def plot_f1_learning_curve(train_f1, val_f1):\n",
    "    epochs = range(1, len(train_f1) + 1)\n",
    "\n",
    "    plt.plot(epochs,train_f1, label='Training F1')\n",
    "    plt.plot(epochs,val_f1, label='Validation F1')\n",
    "\n",
    "    plt.xlabel('Epoch')\n",
    "    plt.ylabel('F1-Score')\n",
    "\n",
    "    plt.legend()\n",
    "\n",
    "    plt.title('Learning Curve')\n",
    "    \n",
    "    plt.show()"
   ]
  },
  {
   "cell_type": "markdown",
   "metadata": {},
   "source": [
    "$\n",
    "\\begin{array}{|c|c|c|c|}\n",
    "\\hline\n",
    "\\text{Optimizer} & \\text{Accuracy} & \\text{F1-Score} & \\text{Time}\\\\\n",
    "\\hline\n",
    "\\text{SGD} & \\text{33.3\\%} & \\text{0.170761} & \\text{1m26.6s}\\\\\n",
    "\\hline\n",
    "\\text{Adadelta} & \\text{33.3\\%} & \\text{0.170319} & \\text{1m27.9s}\\\\\n",
    "\\hline\n",
    "\\text{Adagrad} & \\text{33.8\\%} & \\text{0.311493} & \\text{1m34.1s}\\\\\n",
    "\\hline\n",
    "\\text{Adagrad} & \\text{34.8\\%} & \\text{0.327325} & \\text{2m35.4s 50 EPOCHS}\\\\\n",
    "\\hline\n",
    "\\text{Adagrad} & \\text{36.8\\%} & \\text{0.368264} & \\text{2m36.8s 50 EPOCHS learningRate = 1e-3}\\\\\n",
    "\\hline\n",
    "\\text{Adam} & \\text{37.1\\%} & \\text{0.371074} & \\text{1m26.7s}\\\\\n",
    "\\hline\n",
    "\\text{Adam} & \\text{37.3\\%} & \\text{0.368761} & \\text{2m36.8s 50 EPOCHS learningRate = 1e-5}\\\\\n",
    "\\hline\n",
    "\\text{AdamW} & \\text{37.0\\%} & \\text{0.368899} & \\text{1m25.0s}\\\\\n",
    "\\hline\n",
    "\\text{Adamax} & \\text{37.0\\%} & \\text{0.368293} & \\text{1m42.4s}\\\\\n",
    "\\hline\n",
    "\\end{array}\n",
    "$"
   ]
  },
  {
   "cell_type": "markdown",
   "metadata": {},
   "source": [
    "So now we test with 50 epochs,will increase to 60 when early stopping is included"
   ]
  },
  {
   "cell_type": "markdown",
   "metadata": {},
   "source": [
    "$\n",
    "\\begin{array}{|c|c|c|}\n",
    "\\hline\n",
    "\\text{Activator} & \\text{Accuracy} & \\text{F1-Score}\\\\\n",
    "\\hline\n",
    "\\text{ReLu} & \\text{37.3\\%} & \\text{0.368761}\\\\\n",
    "\\hline\n",
    "\\text{ELU} & \\text{36.6\\%} & \\text{0.364278}\\\\\n",
    "\\hline\n",
    "\\text{HardShrink} & \\text{33.3\\%} & \\text{0.171157}\\\\\n",
    "\\hline\n",
    "\\text{HardSigmoid} & \\text{34.7\\%} & \\text{0.325575}\\\\\n",
    "\\hline\n",
    "\\text{HardTanh} & \\text{36.6\\%} & \\text{0.363918}\\\\\n",
    "\\hline\n",
    "\\end{array}\n",
    "$"
   ]
  },
  {
   "cell_type": "markdown",
   "metadata": {},
   "source": [
    "$\n",
    "\\begin{array}{|c|c|c|}\n",
    "\\hline\n",
    "\\text{Learning Rate} & \\text{Accuracy} & \\text{F1-Score}\\\\\n",
    "\\hline\n",
    "\\text{1e-4} & \\text{37.1\\%} & \\text{0.371074}\\\\\n",
    "\\hline\n",
    "\\text{1e-5} & \\text{37.3\\%} & \\text{0.368761}\\\\\n",
    "\\hline\n",
    "\\text{1e-6} & \\text{35.2\\%} & \\text{0.272236}\\\\\n",
    "\\hline\n",
    "\\end{array}\n",
    "$"
   ]
  },
  {
   "cell_type": "markdown",
   "metadata": {},
   "source": [
    "$\n",
    "\\begin{array}{|c|c|c|c|}\n",
    "\\hline\n",
    "\\text{Patience} & \\text{Accuracy} & \\text{F1-Score} & \\text{Time}\\\\\n",
    "\\hline\n",
    "\\text{3} & \\text{36.0\\%} & \\text{0.356683} & \\text{45.8s}\\\\\n",
    "\\hline\n",
    "\\text{5} & \\text{35.8\\%} & \\text{0.352698} & \\text{44.2s}\\\\\n",
    "\\hline\n",
    "\\text{10} & \\text{36.6\\%} & \\text{0.364468} & \\text{1m4.9s}\\\\\n",
    "\\hline\n",
    "\\text{15} & \\text{36.4\\%} & \\text{0.362527} & \\text{1m48.7s}\\\\\n",
    "\\hline\n",
    "\\text{None-20} & \\text{36.6\\%} & \\text{0.365343} & \\text{3m0.5s}\\\\\n",
    "\\hline\n",
    "\\end{array}\n",
    "$"
   ]
  },
  {
   "cell_type": "markdown",
   "metadata": {},
   "source": [
    "$\n",
    "\\begin{array}{|c|c|c|}\n",
    "\\hline\n",
    "\\text{Scheduler} & \\text{Accuracy} & \\text{F1-Score}\\\\\n",
    "\\hline\n",
    "\\text{LinearLR} & \\text{36.6\\%} & \\text{0.361416}\\\\\n",
    "\\hline\n",
    "\\text{PolynomialLR} & \\text{35.2\\%} & \\text{0.324691}\\\\\n",
    "\\hline\n",
    "\\text{ExponentialLR} & \\text{36.4\\%} & \\text{0.348560}\\\\\n",
    "\\hline\n",
    "\\text{CosineAnnealingLR} & \\text{36.6\\%} & \\text{0.366208}\\\\\n",
    "\\hline\n",
    "\\end{array}\n",
    "$"
   ]
  },
  {
   "cell_type": "markdown",
   "metadata": {},
   "source": [
    "$\n",
    "\\begin{array}{|c|c|c|}\n",
    "\\hline\n",
    "\\text{Dropout Rate} & \\text{Accuracy} & \\text{F1-Score}\\\\\n",
    "\\hline\n",
    "\\text{0} & \\text{36.6\\%} & \\text{0.366208}\\\\\n",
    "\\hline\n",
    "\\text{0.2} & \\text{36.8\\%} & \\text{0.368184}\\\\\n",
    "\\hline\n",
    "\\text{0.3} & \\text{36.8\\%} & \\text{0.362087}\\\\\n",
    "\\hline\n",
    "\\text{0.5} & \\text{36.4\\%} & \\text{0.362567}\\\\\n",
    "\\hline\n",
    "\\end{array}\n",
    "$"
   ]
  },
  {
   "cell_type": "markdown",
   "metadata": {},
   "source": [
    "$\n",
    "\\begin{array}{|c|c|c|c|}\n",
    "\\hline\n",
    "\\text{Batch Size} & \\text{Accuracy} & \\text{F1-Score} & \\text{Time}\\\\\n",
    "\\hline\n",
    "\\text{8} & \\text{36.8\\%} & \\text{0.369066} & \\text{16m5.1s DROPOUT=0.5}\\\\\n",
    "\\hline\n",
    "\\text{8} & \\text{36.9\\%} & \\text{0.371997} & \\text{16m5.1s}\\\\\n",
    "\\hline\n",
    "\\text{16} & \\text{37.2\\%} & \\text{0.370520} & \\text{7m33.0s}\\\\\n",
    "\\hline\n",
    "\\text{16} & \\text{37.2\\%} & \\text{0.368731} & \\text{5m51.3s}\\\\\n",
    "\\hline\n",
    "\\text{32} & \\text{37.1\\%} & \\text{0.368721} & \\text{5m17.9s}\\\\\n",
    "\\hline\n",
    "\\text{64} & \\text{36.6\\%} & \\text{0.362117} & \\text{1m35.5s}\\\\\n",
    "\\hline\n",
    "\\text{128} & \\text{36.9\\%} & \\text{0.366861} & \\text{47.2s}\\\\\n",
    "\\hline\n",
    "\\end{array}\n",
    "$"
   ]
  },
  {
   "cell_type": "markdown",
   "metadata": {},
   "source": [
    "Optimizing"
   ]
  },
  {
   "cell_type": "code",
   "execution_count": 30,
   "metadata": {},
   "outputs": [
    {
     "name": "stdout",
     "output_type": "stream",
     "text": [
      "Epoch 1\n",
      "-------------------------------\n",
      "tensor(0.3102)\n",
      "Epoch 2\n",
      "-------------------------------\n",
      "tensor(0.3365)\n",
      "Epoch 3\n",
      "-------------------------------\n",
      "tensor(0.3076)\n",
      "Epoch 4\n",
      "-------------------------------\n",
      "tensor(0.3458)\n",
      "Epoch 5\n",
      "-------------------------------\n",
      "tensor(0.3396)\n",
      "Epoch 6\n",
      "-------------------------------\n",
      "tensor(0.3348)\n",
      "Epoch 7\n",
      "-------------------------------\n",
      "tensor(0.3325)\n",
      "Epoch 8\n",
      "-------------------------------\n",
      "tensor(0.3567)\n",
      "Epoch 9\n",
      "-------------------------------\n",
      "tensor(0.3478)\n",
      "Epoch 10\n",
      "-------------------------------\n",
      "tensor(0.3412)\n",
      "Epoch 11\n",
      "-------------------------------\n",
      "tensor(0.3509)\n",
      "Epoch 12\n",
      "-------------------------------\n",
      "tensor(0.3605)\n",
      "Epoch 13\n",
      "-------------------------------\n",
      "tensor(0.3564)\n",
      "Epoch 14\n",
      "-------------------------------\n",
      "tensor(0.3537)\n",
      "Epoch 15\n",
      "-------------------------------\n",
      "tensor(0.3520)\n",
      "Epoch 16\n",
      "-------------------------------\n",
      "tensor(0.3424)\n",
      "Epoch 17\n",
      "-------------------------------\n",
      "tensor(0.3550)\n",
      "Epoch 18\n",
      "-------------------------------\n",
      "tensor(0.3425)\n",
      "Epoch 19\n",
      "-------------------------------\n",
      "tensor(0.3497)\n",
      "Epoch 20\n",
      "-------------------------------\n",
      "tensor(0.3495)\n",
      "Epoch 21\n",
      "-------------------------------\n",
      "tensor(0.3668)\n",
      "Epoch 22\n",
      "-------------------------------\n",
      "tensor(0.3491)\n",
      "Epoch 23\n",
      "-------------------------------\n",
      "tensor(0.3479)\n",
      "Epoch 24\n",
      "-------------------------------\n",
      "tensor(0.3503)\n",
      "Epoch 25\n",
      "-------------------------------\n",
      "tensor(0.3470)\n",
      "Epoch 26\n",
      "-------------------------------\n",
      "tensor(0.3457)\n",
      "Epoch 27\n",
      "-------------------------------\n",
      "tensor(0.3498)\n",
      "Epoch 28\n",
      "-------------------------------\n",
      "tensor(0.3595)\n",
      "Epoch 29\n",
      "-------------------------------\n",
      "tensor(0.3576)\n",
      "Epoch 30\n",
      "-------------------------------\n",
      "tensor(0.3464)\n",
      "Epoch 31\n",
      "-------------------------------\n",
      "tensor(0.3705)\n",
      "Epoch 32\n",
      "-------------------------------\n",
      "tensor(0.3612)\n",
      "Epoch 33\n",
      "-------------------------------\n",
      "tensor(0.3600)\n",
      "Epoch 34\n",
      "-------------------------------\n",
      "tensor(0.3423)\n",
      "Epoch 35\n",
      "-------------------------------\n",
      "tensor(0.3593)\n",
      "Epoch 36\n",
      "-------------------------------\n",
      "tensor(0.3487)\n",
      "Epoch 37\n",
      "-------------------------------\n",
      "tensor(0.3671)\n",
      "Epoch 38\n",
      "-------------------------------\n",
      "tensor(0.3633)\n",
      "Epoch 39\n",
      "-------------------------------\n",
      "tensor(0.3624)\n",
      "Epoch 40\n",
      "-------------------------------\n",
      "tensor(0.3550)\n",
      "Epoch 41\n",
      "-------------------------------\n",
      "tensor(0.3412)\n",
      "Epoch 42\n",
      "-------------------------------\n",
      "tensor(0.3602)\n",
      "Epoch 43\n",
      "-------------------------------\n",
      "tensor(0.3625)\n",
      "Epoch 44\n",
      "-------------------------------\n",
      "tensor(0.3530)\n",
      "Epoch 45\n",
      "-------------------------------\n",
      "tensor(0.3624)\n",
      "Epoch 46\n",
      "-------------------------------\n",
      "tensor(0.3506)\n",
      "Test Error: \n",
      " Accuracy: 37.2%, Avg loss: 1.092785,Avg F1-Score: 0.370520\n",
      "\n",
      "Confusion Matrix \n",
      ": tensor([[3, 3, 3],\n",
      "        [0, 1, 1],\n",
      "        [1, 1, 3]], device='cuda:0')\n",
      "\n"
     ]
    },
    {
     "data": {
      "image/png": "[encoded data removed]",
      "text/plain": [
       "<Figure size 640x480 with 1 Axes>"
      ]
     },
     "metadata": {},
     "output_type": "display_data"
    },
    {
     "data": {
      "image/png": "[encoded data removed]",
      "text/plain": [
       "<Figure size 640x480 with 1 Axes>"
      ]
     },
     "metadata": {},
     "output_type": "display_data"
    }
   ],
   "source": [
    "loss_fn = nn.CrossEntropyLoss()\n",
    "best_f1 = 0 #initialize variables\n",
    "best_loss = 0\n",
    "best_accuracy = 0\n",
    "learning_rate = 1e-5\n",
    "patience = 0\n",
    "epochs_count = 60\n",
    "patience_tol = 15\n",
    "f1_train_scores = []\n",
    "f1_val_scores = []\n",
    "train_losses = []\n",
    "val_losses = []\n",
    "\n",
    "model = FeedForwardNeuralNetwork(dropout_rate = 0.2).to(device) #Create a feedforward network instance\n",
    "\n",
    "optimizer = torch.optim.Adam(model.parameters(),lr=learning_rate)\n",
    "\n",
    "for t in range(epochs_count): #iterate over the number of epochs\n",
    "    print(f\"Epoch {t+1}\\n-------------------------------\")\n",
    "    torch.cuda.synchronize()\n",
    "\n",
    "    f1_train,train_loss = Train(Train_set,model,loss_fn,optimizer) #train the convo network\n",
    "    f1_train_scores.append(f1_train.cpu())\n",
    "    train_losses.append(train_loss)\n",
    "    f1_val,val_loss,accuracy,confusionMatrix = Validation(Validation_set,model,loss_fn) #find the current f1 score\n",
    "\n",
    "    print(f1_val.cpu())\n",
    "    f1_val_scores.append(f1_val.cpu())\n",
    "    val_losses.append(val_loss)\n",
    "\n",
    "\n",
    "    if f1_val > best_f1: #if it the best one yet\n",
    "        best_f1 = f1_val #set it as the best one\n",
    "        best_loss = val_loss\n",
    "        best_confmat = confusionMatrix\n",
    "        best_accuracy = accuracy\n",
    "        new_best_model = model #this is the best model yet\n",
    "        patience = 0\n",
    "    else:\n",
    "        patience+=1 #else increment patience\n",
    "    if patience == patience_tol: #if we have iterated over a number of epochs and still the model we found is the best one\n",
    "        break #break from the iteration\n",
    "\n",
    "print(f\"Test Error: \\n Accuracy: {(100*best_accuracy):>0.1f}%, Avg loss: {best_loss:>8f},Avg F1-Score: {best_f1:>8f}\\n\") #print statistics\n",
    "print(f\"Confusion Matrix \\n: {best_confmat}\\n\") #print confusion matrix\n",
    "plot_loss_learning_curve(train_losses=train_losses,val_losses=val_losses)\n",
    "plot_f1_learning_curve(train_f1=f1_train_scores,val_f1=f1_val_scores)"
   ]
  },
  {
   "cell_type": "markdown",
   "metadata": {},
   "source": [
    "RELU is the best."
   ]
  },
  {
   "cell_type": "markdown",
   "metadata": {},
   "source": [
    "We can see that optimizers performace differs with learning rates,Adagrad was particularly interesting since it seems to generalize better compared to the other algorithms."
   ]
  },
  {
   "cell_type": "markdown",
   "metadata": {},
   "source": [
    "5 Epochs not enough,incrase number to 10,20,30"
   ]
  },
  {
   "cell_type": "markdown",
   "metadata": {},
   "source": [
    "As we can see with slower learning rate the is managing to generalize better,but also shows more epochs are needed,so epochs go to 60 ,and patience is included"
   ]
  },
  {
   "cell_type": "markdown",
   "metadata": {},
   "source": [
    "Predict Test Labels"
   ]
  },
  {
   "cell_type": "code",
   "execution_count": 63,
   "metadata": {},
   "outputs": [],
   "source": [
    "Predictions = []\n",
    "\n",
    "with torch.no_grad(): #disable gradient caclulation since we are testing not training\n",
    "    for X in Test_set:\n",
    "        X = X[0].to(device) #Load to GPU\n",
    "\n",
    "        pred = new_best_model(X) #predict the label\n",
    "        Predictions.append(pred.argmax(1).cpu().numpy())\n",
    "\n",
    "Predictions = np.concatenate(Predictions)"
   ]
  },
  {
   "cell_type": "code",
   "execution_count": 64,
   "metadata": {},
   "outputs": [],
   "source": [
    "#Create a dataframe based on a dictionary of the IDs and the predictions\n",
    "y_test = pd.DataFrame(data={'Id': test_set['New_ID'], 'Predicted': Predictions})\n",
    "\n",
    "#Convert the predicted labels [0,1,2] back to their corresponding labels [NEGATIVE,NEUTRAL,POSITIVE]\n",
    "y_test['Predicted'] = y_test['Predicted'].apply(lambda x: labels.get(x,x))\n",
    "\n",
    "#Save as csv\n",
    "y_test.to_csv('sumbission.csv',index=False)"
   ]
  },
  {
   "cell_type": "markdown",
   "metadata": {},
   "source": [
    "Number of epochs not enough for model to learn,increase to 10,then 20 and then 30"
   ]
  }
 ],
 "metadata": {
  "kernelspec": {
   "display_name": "Python 3",
   "language": "python",
   "name": "python3"
  },
  "language_info": {
   "codemirror_mode": {
    "name": "ipython",
    "version": 3
   },
   "file_extension": ".py",
   "mimetype": "text/x-python",
   "name": "python",
   "nbconvert_exporter": "python",
   "pygments_lexer": "ipython3",
   "version": "3.10.12"
  }
 },
 "nbformat": 4,
 "nbformat_minor": 2
}
