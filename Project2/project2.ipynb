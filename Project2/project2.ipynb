{
 "cells": [
  {
   "attachments": {},
   "cell_type": "markdown",
   "metadata": {},
   "source": [
    "Λαμπρόπουλος Κωνσταντίνος $$ $$\n",
    "ΑΜ : 1115201800092"
   ]
  },
  {
   "attachments": {},
   "cell_type": "markdown",
   "metadata": {},
   "source": [
    "Imports"
   ]
  },
  {
   "cell_type": "code",
   "execution_count": null,
   "metadata": {},
   "outputs": [],
   "source": [
    "import pandas as pd\n",
    "import numpy as np\n",
    "from PIL import Image\n",
    "import glob\n",
    "from sklearn.decomposition import PCA\n",
    "import matplotlib.pyplot as plt\n",
    "import pickle\n",
    "from sklearn.model_selection import train_test_split\n",
    "from sklearn.naive_bayes import GaussianNB\n",
    "from sklearn.svm import SVC\n",
    "from sklearn.neighbors import KNeighborsClassifier\n",
    "from sklearn.ensemble import RandomForestClassifier\n",
    "from sklearn.metrics import accuracy_score\n",
    "pd.set_option(\"display.max_rows\",None)\n",
    "pd.set_option(\"display.max_columns\",None)"
   ]
  },
  {
   "attachments": {},
   "cell_type": "markdown",
   "metadata": {},
   "source": [
    "Load Image"
   ]
  },
  {
   "cell_type": "code",
   "execution_count": null,
   "metadata": {},
   "outputs": [],
   "source": [
    "def SetRange(set_number): #Set the aprropriate ranges for each set\n",
    "    if set_number == 1: #not that the in range() function of python iterates over the [start,stop) range\n",
    "        infimum,maximum = 1,8\n",
    "    elif set_number == 2:\n",
    "        infimum,maximum = 8,20\n",
    "    elif set_number == 3:\n",
    "        infimum,maximum = 20,32\n",
    "    elif set_number == 4:\n",
    "        infimum,maximum = 32,46\n",
    "    elif set_number == 5:\n",
    "        infimum,maximum = 46,65\n",
    "    return (infimum,maximum)"
   ]
  },
  {
   "cell_type": "code",
   "execution_count": null,
   "metadata": {},
   "outputs": [],
   "source": [
    "def LoadImages(path,set_number): #load an image set\n",
    "    loadedimages = [] #empty lists to store our variables\n",
    "    labels = []\n",
    "    start,stop = SetRange(set_number) #get the range of each set\n",
    "    for i in range(1,11): #we will get a number of images from all people\n",
    "        for j in range(start,stop): #but in each set we take different pictures from all people\n",
    "            if i < 10: #images of people from 1-9 have format like this\n",
    "                if j < 10: #e.g person03_09.png so we need to add the 0s to the path\n",
    "                    image_path = f\"{path}/person0{i}_0{j}.png\"\n",
    "                else:\n",
    "                    image_path = f\"{path}/person0{i}_{j}.png\" \n",
    "            else: #else if it is the 10nth person,we dont need a 0 in the beggining\n",
    "                if j < 10:\n",
    "                    image_path = f\"{path}/person{i}_0{j}.png\"\n",
    "                else:\n",
    "                   image_path = f\"{path}/person{i}_{j}.png\" \n",
    "            image = Image.open(image_path) #open the image from the path\n",
    "            loadedimages.append(np.array(image).flatten()) #get a vector from the image\n",
    "            labels.append(i) #and add the according label\n",
    "    return loadedimages,labels #retun a tuple"
   ]
  },
  {
   "attachments": {},
   "cell_type": "markdown",
   "metadata": {},
   "source": [
    "Train Eigen Faces"
   ]
  },
  {
   "cell_type": "code",
   "execution_count": null,
   "metadata": {},
   "outputs": [],
   "source": [
    "def TrainEigenFaces(train_data, train_labels, d):\n",
    "    pca = PCA(n_components=d) #initialize PCA with the components we wnat\n",
    "    data = pca.fit_transform(train_data) #project data to eigen space\n",
    "\n",
    "    knn = KNeighborsClassifier(n_neighbors=1,p=2) #use Knn neighbours classifier\n",
    "                                              #the classifier uses euclidiean distance metric when\n",
    "                                              #variable p equals to 2\n",
    "    knn.fit(data, train_labels) #fit the data\n",
    "\n",
    "    return pca,knn #return tuple"
   ]
  },
  {
   "attachments": {},
   "cell_type": "markdown",
   "metadata": {},
   "source": [
    "Test Eigen Faces"
   ]
  },
  {
   "cell_type": "code",
   "execution_count": null,
   "metadata": {},
   "outputs": [],
   "source": [
    "def TestEigenFaces(pca, knn, test_data):\n",
    "    data = pca.transform(test_data) #project our test data to eigen space\n",
    "\n",
    "    predicted_labels = knn.predict(data) #predict the image we are using\n",
    "\n",
    "    return predicted_labels #return predictions"
   ]
  },
  {
   "attachments": {},
   "cell_type": "markdown",
   "metadata": {},
   "source": [
    "Face Recognition"
   ]
  },
  {
   "cell_type": "code",
   "execution_count": null,
   "metadata": {},
   "outputs": [],
   "source": [
    "def FaceRecognition():\n",
    "    train_data,train_labels = LoadImages('./faces',1) #load our training data\n",
    "    pca,knn = TrainEigenFaces(train_data,train_labels,9) #perform face recognition with 9 vectors first\n",
    "    print(\"Accuracy Scores for 9 vectors\")\n",
    "    for i in range (1,6):\n",
    "        test_data,test_labels = LoadImages('./faces',i) #load test sets\n",
    "        predicted_labels = TestEigenFaces(pca,knn,test_data) #test each set\n",
    "        print(f\"Set {i} : {accuracy_score(predicted_labels,test_labels):.6f}\") #print accuracy of predicitons\n",
    "    pca,knn = TrainEigenFaces(train_data,train_labels,30) #perform face recognition with 30 vectors\n",
    "    print(\"Accuracy Score for 30 vectors\")\n",
    "    for i in range (1,6):\n",
    "        test_data,test_labels = LoadImages('./faces',i) #load test sets\n",
    "        predicted_labels = TestEigenFaces(pca,knn,test_data) #project set to eigen space and predict each image\n",
    "        print(f\"Set {i} : {accuracy_score(predicted_labels,test_labels):.6f}\") #print accuracy\n",
    "\n",
    "\n",
    "FaceRecognition() #Call the function to showcase the results"
   ]
  }
 ],
 "metadata": {
  "kernelspec": {
   "display_name": "base",
   "language": "python",
   "name": "python3"
  },
  "language_info": {
   "codemirror_mode": {
    "name": "ipython",
    "version": 3
   },
   "file_extension": ".py",
   "mimetype": "text/x-python",
   "name": "python",
   "nbconvert_exporter": "python",
   "pygments_lexer": "ipython3",
   "version": "3.9.12"
  },
  "orig_nbformat": 4
 },
 "nbformat": 4,
 "nbformat_minor": 2
}
