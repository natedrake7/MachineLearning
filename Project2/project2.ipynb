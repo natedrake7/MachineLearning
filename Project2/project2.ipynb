{
 "cells": [
  {
   "attachments": {},
   "cell_type": "markdown",
   "metadata": {},
   "source": [
    "Λαμπρόπουλος Κωνσταντίνος $$ $$\n",
    "ΑΜ : 1115201800092"
   ]
  },
  {
   "attachments": {},
   "cell_type": "markdown",
   "metadata": {},
   "source": [
    "Imports"
   ]
  },
  {
   "cell_type": "code",
   "execution_count": null,
   "metadata": {},
   "outputs": [],
   "source": [
    "import pandas as pd\n",
    "import numpy as np\n",
    "from PIL import Image\n",
    "import random\n",
    "import glob\n",
    "from sklearn.decomposition import PCA\n",
    "import matplotlib.pyplot as plt\n",
    "from sklearn.neighbors import KNeighborsClassifier\n",
    "from sklearn.metrics import accuracy_score"
   ]
  },
  {
   "attachments": {},
   "cell_type": "markdown",
   "metadata": {},
   "source": [
    "Load Image (Question 1)"
   ]
  },
  {
   "cell_type": "code",
   "execution_count": null,
   "metadata": {},
   "outputs": [],
   "source": [
    "def SetRange(set_number): #Set the aprropriate ranges for each set\n",
    "    if set_number == 1: #not that the in range() function of python iterates over the [start,stop) range\n",
    "        infimum,maximum = 1,8\n",
    "    elif set_number == 2:\n",
    "        infimum,maximum = 8,20\n",
    "    elif set_number == 3:\n",
    "        infimum,maximum = 20,32\n",
    "    elif set_number == 4:\n",
    "        infimum,maximum = 32,46\n",
    "    elif set_number == 5:\n",
    "        infimum,maximum = 46,65\n",
    "    return (infimum,maximum)"
   ]
  },
  {
   "cell_type": "code",
   "execution_count": null,
   "metadata": {},
   "outputs": [],
   "source": [
    "def LoadImages(path,set_number): #load an image set\n",
    "    loadedimages = [] #empty lists to store our variables\n",
    "    labels = []\n",
    "    start,stop = SetRange(set_number) #get the range of each set\n",
    "    for i in range(1,11): #we will get a number of images from all people\n",
    "        for j in range(start,stop): #but in each set we take different pictures from all people\n",
    "            if i < 10: #images of people from 1-9 have format like this\n",
    "                if j < 10: #e.g person03_09.png so we need to add the 0s to the path\n",
    "                    image_path = f\"{path}/person0{i}_0{j}.png\"\n",
    "                else:\n",
    "                    image_path = f\"{path}/person0{i}_{j}.png\" \n",
    "            else: #else if it is the 10nth person,we dont need a 0 in the beggining\n",
    "                if j < 10:\n",
    "                    image_path = f\"{path}/person{i}_0{j}.png\"\n",
    "                else:\n",
    "                   image_path = f\"{path}/person{i}_{j}.png\" \n",
    "            image = Image.open(image_path) #open the image from the path\n",
    "            loadedimages.append(np.array(image).flatten()) #get a vector from the image\n",
    "            labels.append(i) #and add the according label\n",
    "    return loadedimages,labels #retun a tuple"
   ]
  },
  {
   "attachments": {},
   "cell_type": "markdown",
   "metadata": {},
   "source": [
    "Train Eigen Faces"
   ]
  },
  {
   "cell_type": "code",
   "execution_count": null,
   "metadata": {},
   "outputs": [],
   "source": [
    "def TrainEigenFaces(train_data, train_labels, d):\n",
    "    pca = PCA(n_components=d) #initialize PCA with the components we wnat\n",
    "    data = pca.fit_transform(train_data) #project data to eigen space\n",
    "    \n",
    "    knn = KNeighborsClassifier(n_neighbors=1,p=2) #use Knn neighbours classifier\n",
    "                                              #the classifier uses euclidiean distance metric when\n",
    "                                              #variable p equals to 2\n",
    "    knn.fit(data, train_labels) #fit the data\n",
    "\n",
    "    return pca,knn,pca.components_ #return tuple"
   ]
  },
  {
   "attachments": {},
   "cell_type": "markdown",
   "metadata": {},
   "source": [
    "Test Eigen Faces"
   ]
  },
  {
   "cell_type": "code",
   "execution_count": null,
   "metadata": {},
   "outputs": [],
   "source": [
    "def TestEigenFaces(pca, knn, test_data):\n",
    "    data = pca.transform(test_data) #project our test data to eigen space\n",
    "    predicted_labels = knn.predict(data) #predict the image we are using\n",
    "    return predicted_labels #return predictions"
   ]
  },
  {
   "cell_type": "code",
   "execution_count": null,
   "metadata": {},
   "outputs": [],
   "source": [
    "def ImageReconstrunction(eigenvectors,pca,image):\n",
    "    vector = image.flatten() - pca.mean_ #convert the image to a vector and center it by removing the mean vector\n",
    "    coefficients = [] #we need the coefficients to recontruct an image\n",
    "    for eigenvector in eigenvectors: #for each eigenvector\n",
    "        coefficient  = np.dot(vector,eigenvector) #calculate the coefficient\n",
    "        coefficients.append(coefficient) #append it to the list\n",
    "    np.array(coefficients) #make the list an array\n",
    "    coefficients = np.reshape(coefficients,(len(pca.components_),1)) #we want the product of 2 arrays\n",
    "    eigenvectors = np.transpose(eigenvectors) #so coefficients and eigenvectors need to be able to peform the operation\n",
    "    vector = np.dot(eigenvectors,coefficients) #calculate the product\n",
    "    recontructed_image = np.array(vector).reshape(50,50) #reshape the image to be 50x50 as the original\n",
    "    return recontructed_image #return it\n"
   ]
  },
  {
   "cell_type": "code",
   "execution_count": null,
   "metadata": {},
   "outputs": [],
   "source": [
    "def ShowImage(image9,image30,image):\n",
    "    plt.figure(figsize=(15,4)) #set figure size\n",
    "    ax1 = plt.subplot(3,8,1) #sublot 1\n",
    "    plt.imshow(image.reshape(50,50),cmap='bone') #original image\n",
    "    ax1.set_title('Image') #title\n",
    "    ax2 = plt.subplot(3,8,2) #sublot 2\n",
    "    plt.imshow(image9,cmap='bone') #image with 9 eigenvectors used to reconstruct\n",
    "    ax2.set_title('d=9') #title\n",
    "    ax3 = plt.subplot(3,8,3) #sublot 3\n",
    "    plt.imshow(image30,cmap='bone') #image with 30 eigenvectors used to reconstruct\n",
    "    ax3.set_title('d=30') #title (for some reason not wotking when main title is added)\n",
    "    plt.title('Image Reconstruction',x=-1.15,y=1.75,pad=-20) #set title\n",
    "    plt.show()"
   ]
  },
  {
   "attachments": {},
   "cell_type": "markdown",
   "metadata": {},
   "source": [
    "Face Recognition"
   ]
  },
  {
   "cell_type": "code",
   "execution_count": null,
   "metadata": {},
   "outputs": [],
   "source": [
    "def FaceRecognition():\n",
    "    train_data,train_labels = LoadImages('./faces',1) #load our training data\n",
    "    pca,knn,eigenvectors = TrainEigenFaces(train_data,train_labels,9) #perform face recognition with 9 vectors first\n",
    "    print(\"Accuracy Scores for 9 vectors\")\n",
    "    for i in range (1,6):\n",
    "        test_data,test_labels = LoadImages('./faces',i) #load test sets\n",
    "        if i == 2: #get a random image from the set (for image reconstruction)\n",
    "            Image9 = ImageReconstrunction(eigenvectors,pca,test_data[i]) #reconstruct image  with 9 eigenvectors (for next question)\n",
    "        predicted_labels = TestEigenFaces(pca,knn,test_data) #test each set\n",
    "        print(f\"Set {i} : {accuracy_score(predicted_labels,test_labels)*100:.6f}%\") #print accuracy of predicitons\n",
    "    pca,knn,eigenvectors_2 = TrainEigenFaces(train_data,train_labels,30) #perform face recognition with 30 vectors\n",
    "    print(\"Accuracy Score for 30 vectors\") \n",
    "    for i in range (1,6):\n",
    "        test_data,test_labels = LoadImages('./faces',i) #load test sets\n",
    "        if i == 2: #get the same image as on the previous iteration of the sets\n",
    "            Image30 = ImageReconstrunction(eigenvectors_2,pca,test_data[i])\n",
    "            image = test_data[i]\n",
    "        predicted_labels = TestEigenFaces(pca,knn,test_data) #project set to eigen space and predict each image\n",
    "        print(f\"Set {i} : {accuracy_score(predicted_labels,test_labels)*100:.6f}%\") #print accuracy\n",
    "    return eigenvectors,Image9,Image30,image,train_data"
   ]
  },
  {
   "attachments": {},
   "cell_type": "markdown",
   "metadata": {},
   "source": [
    "Convert Eigen Vectors To Image"
   ]
  },
  {
   "cell_type": "code",
   "execution_count": null,
   "metadata": {},
   "outputs": [],
   "source": [
    "def EigenVectorToImage(eigenvectors):\n",
    "    plt.figure(figsize=(9,4)) #set the figure size\n",
    "    for i in range(1,10,1): #for each eigenvector\n",
    "        plt.subplot(3,8,i) #create subplot-i\n",
    "        plt.imshow(eigenvectors[i-1].reshape(50,50),cmap='bone') #show the eigenvector as an image of 50x50\n",
    "    plt.title(label=\"EigenVectors converted back to images\",x=4.5,y=3,pad=-15) #set\n",
    "    plt.show()"
   ]
  },
  {
   "attachments": {},
   "cell_type": "markdown",
   "metadata": {},
   "source": [
    "Face Recognition Showcase (Question 2)"
   ]
  },
  {
   "cell_type": "code",
   "execution_count": null,
   "metadata": {},
   "outputs": [],
   "source": [
    "eigenvectors,image9,image30,image ,train_data= FaceRecognition() #Call the function to showcase the results"
   ]
  },
  {
   "attachments": {},
   "cell_type": "markdown",
   "metadata": {},
   "source": [
    "Γενίκευση της μεθόδου στα διαφορετικά Sets"
   ]
  },
  {
   "attachments": {},
   "cell_type": "markdown",
   "metadata": {},
   "source": [
    "Παρατηρούμε ότι ενώ στο πρώτο και στο δεύτερο set υπάρχει αρκετά μεγάλη ακρίβεια στην αναγνώριση των προσώπων,στα υπόλοιπα μειώνεται αρκετά,μέχρις όπου στο set 5 έχουμε ποσοστό 14.736842%.Η κύρια διαφορά μεταξύ των Set είναι ο διαφορετικός φωτισμός που επικρατεί.Μπορούμε να γενικεύσουμε την μέθοδο EigenFaces και να την εκπαιδεύσουμε με τα διαφορετικά Sets.Βέβαια αν χρησιμοποιήσουμε ως train set ,πχ το set 5  θα έχουμε πάλι αρκετά μικρά ποσοστά στο set 1 και 2.Όμως αν αλλάζαμε την δομή των set ,όπου κάθε set περιείχε είκονες με διαφορετικό φωτισμό για κάθε πρόσωπο,θα ήταν δυνατό να πετύχουμε μεγαλύτερα ποσοστά ακρίβειας."
   ]
  },
  {
   "attachments": {},
   "cell_type": "markdown",
   "metadata": {},
   "source": [
    "Eigen Vectors depicted as images (Question 3)"
   ]
  },
  {
   "cell_type": "code",
   "execution_count": null,
   "metadata": {},
   "outputs": [],
   "source": [
    "EigenVectorToImage(eigenvectors)"
   ]
  },
  {
   "attachments": {},
   "cell_type": "markdown",
   "metadata": {},
   "source": [
    "Τα ιδιοδιανύσματα αυτά εκφράζουν τις πιο σημαντικές αλλαγές στο train set.Ειδικότερα\n",
    "πιάνουν τις εναλλαγές στον φωτισμό και στις εκφράσεις του προσώπου"
   ]
  },
  {
   "attachments": {},
   "cell_type": "markdown",
   "metadata": {},
   "source": [
    "Image Reconstruction (Question 4)"
   ]
  },
  {
   "cell_type": "code",
   "execution_count": null,
   "metadata": {},
   "outputs": [],
   "source": [
    "ShowImage(image9,image30,image)"
   ]
  },
  {
   "attachments": {},
   "cell_type": "markdown",
   "metadata": {},
   "source": [
    "Παρατηρούμε ότι η ανακατασκευή της εικόνας χρησιμοποιώντας 9 ιδιοδιανύσματα δεν έχει τόσο μεγάλη ακρίβεια στον φωτισμό και δεν έχει πετύχει τις έντονες εναλλαγές φωτός πάνω στο πρόσωπο(όπως στη μύτη,χείλη,φρύδια,μάτια) το οποίο κάνει την ανακατασκευή να μην είναι τόσο αληθοφανής.Αντίθετα η ανακατασκευή με 30 ιδιοδιανύσματα φαίνεται ότι έχει πετύχει καλύτερα τον φωτισμό ,αφού τώρα τα χαρακτηριστικά στα οποία υστερούσε η ανακατασκευή με d=9 είναι πολύ πιο αληθοφανή.Ακόμα βέβαια υπάρχουν κάποια θέματα,όπως είναι τα μάτια και ότι έχει αποδόσει πιο σκοτεινό χρώμα στο πρόσωπο."
   ]
  },
  {
   "attachments": {},
   "cell_type": "markdown",
   "metadata": {},
   "source": [
    "Display Singular Vectors (Question 5)"
   ]
  },
  {
   "cell_type": "code",
   "execution_count": null,
   "metadata": {},
   "outputs": [],
   "source": [
    "train_data = np.array(train_data)\n",
    "train_data = train_data.transpose()\n",
    "singular_vectors,s,vt = np.linalg.svd(train_data)\n",
    "EigenVectorToImage(eigenvectors)\n",
    "plt.figure(figsize=(9,4)) #set the figure size\n",
    "for i in range(1,10,1): #for each eigenvector\n",
    "    plt.subplot(3,8,i) #create subplot-i\n",
    "    plt.imshow(singular_vectors[i-1].reshape(50,50),cmap='bone') #show the eigenvector as an image of 50x50\n",
    "plt.title(label=\"Singular Vectors converted to images\",x=4.5,y=3,pad=-15) #set\n",
    "plt.show()\n"
   ]
  },
  {
   "attachments": {},
   "cell_type": "markdown",
   "metadata": {},
   "source": [
    "Παρατηρούμε ότι τα Singular Vectors και τα Eigen Vectors διαφέρουν αρκετά.Ο λόγος πίσω από αυτό είναι ότι ενώ τα Eigen Vectors δείχνουν τα σταθερά κομμάτια των εικόνων (invariant) τα οποία δεν αλλάζουν,τα Singular Vectors δείχουν τις μεγαλύτερες εναλλαγές ,όπως εδώ είναι ο φωτισμός."
   ]
  },
  {
   "attachments": {},
   "cell_type": "markdown",
   "metadata": {},
   "source": [
    "Classification using SVMs"
   ]
  },
  {
   "attachments": {},
   "cell_type": "markdown",
   "metadata": {},
   "source": [
    "Imports"
   ]
  },
  {
   "cell_type": "code",
   "execution_count": null,
   "metadata": {},
   "outputs": [],
   "source": [
    "from keras.datasets import mnist\n",
    "from sklearn.model_selection import train_test_split\n",
    "from sklearn.svm import SVC\n",
    "from sklearn.metrics import accuracy_score\n",
    "#no cuda drivers found (RTX 3080 btw)"
   ]
  },
  {
   "cell_type": "code",
   "execution_count": null,
   "metadata": {},
   "outputs": [],
   "source": [
    "(x_train,y_train),(x_test,y_test )= mnist.load_data() #load the dataset\n",
    "                                                      #the dataset is automatically split in a train set\n",
    "                                                      #of 60000 and a test set of 10000\n",
    "x_train = x_train.reshape(-1,28*28)\n",
    "x_test = x_test.reshape(-1,28*28)  \n",
    "x_train = x_train/255.0\n",
    "x_test = x_test/255.0                                                     \n",
    "svm = SVC(kernel='rbf',gamma='scale',C=100.0) #97.6 with kernel rbf gamma auto and C = 100\n",
    "                                              #98.33 with rbf scale C=100.0\n",
    "svm.fit(x_train,y_train)\n",
    "y_pred = svm.predict(x_test)σ\n",
    "print(\"Accuracy:\", accuracy_score(y_test, y_pred))"
   ]
  },
  {
   "attachments": {},
   "cell_type": "markdown",
   "metadata": {},
   "source": [
    "Στο παραπάνω testing χρησιμοποιήθηκαν οι παράμμετροι : kernel = rbf,gamma = scale,C=100.0 και απέδωσαν ακρίβεια 98.33%"
   ]
  }
 ],
 "metadata": {
  "kernelspec": {
   "display_name": "base",
   "language": "python",
   "name": "python3"
  },
  "language_info": {
   "codemirror_mode": {
    "name": "ipython",
    "version": 3
   },
   "file_extension": ".py",
   "mimetype": "text/x-python",
   "name": "python",
   "nbconvert_exporter": "python",
   "pygments_lexer": "ipython3",
   "version": "3.9.12"
  },
  "orig_nbformat": 4
 },
 "nbformat": 4,
 "nbformat_minor": 2
}
