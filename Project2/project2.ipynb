{
 "cells": [
  {
   "attachments": {},
   "cell_type": "markdown",
   "metadata": {},
   "source": [
    "Λαμπρόπουλος Κωνσταντίνος $$ $$\n",
    "ΑΜ : 1115201800092"
   ]
  },
  {
   "attachments": {},
   "cell_type": "markdown",
   "metadata": {},
   "source": [
    "Imports"
   ]
  },
  {
   "cell_type": "code",
   "execution_count": 34,
   "metadata": {},
   "outputs": [],
   "source": [
    "import pandas as pd\n",
    "import numpy as np\n",
    "from PIL import Image\n",
    "import glob\n",
    "from sklearn.decomposition import PCA\n",
    "import matplotlib.pyplot as plt\n",
    "import pickle\n",
    "from sklearn.model_selection import train_test_split\n",
    "from sklearn.naive_bayes import GaussianNB\n",
    "from sklearn.svm import SVC\n",
    "from sklearn.ensemble import RandomForestClassifier\n",
    "from sklearn.metrics import accuracy_score\n",
    "pd.set_option(\"display.max_rows\",None)\n",
    "pd.set_option(\"display.max_columns\",None)"
   ]
  },
  {
   "attachments": {},
   "cell_type": "markdown",
   "metadata": {},
   "source": [
    "Load Image"
   ]
  },
  {
   "cell_type": "code",
   "execution_count": 33,
   "metadata": {},
   "outputs": [],
   "source": [
    "def LoadImages(path,set_number):\n",
    "    loadedimages = []\n",
    "    labels = []\n",
    "    for i in range(1,65):\n",
    "        labels.append(f\"{set_number}_{i}\")\n",
    "        if set_number < 10:\n",
    "            if i < 10:\n",
    "                image_path = f\"{path}/person0{set_number}_0{i}.png\"\n",
    "            else:\n",
    "                image_path = f\"{path}/person0{set_number}_{i}.png\"\n",
    "            image = Image.open(image_path)\n",
    "            loadedimages.append(np.array(image).flatten())\n",
    "        else:\n",
    "            if i < 10:\n",
    "                image_path = f\"{path}/person{set_number}_0{i}.png\"\n",
    "            else:\n",
    "                image_path = f\"{path}/person{set_number}_{i}.png\"\n",
    "            image = Image.open(image_path)\n",
    "            loadedimages.append(np.array(image).flatten())   \n",
    "    return (np.transpose(loadedimages),labels)\n"
   ]
  },
  {
   "attachments": {},
   "cell_type": "markdown",
   "metadata": {},
   "source": [
    "Create Dataframe to store Vectors"
   ]
  },
  {
   "cell_type": "code",
   "execution_count": 36,
   "metadata": {},
   "outputs": [
    {
     "ename": "ValueError",
     "evalue": "cannot reshape array of size 64 into shape (64,64)",
     "output_type": "error",
     "traceback": [
      "\u001b[0;31m---------------------------------------------------------------------------\u001b[0m",
      "\u001b[0;31mValueError\u001b[0m                                Traceback (most recent call last)",
      "Cell \u001b[0;32mIn[36], line 11\u001b[0m\n\u001b[1;32m      9\u001b[0m         eigenface_image \u001b[39m=\u001b[39m Image\u001b[39m.\u001b[39mfromarray(eigenface\u001b[39m.\u001b[39mastype(np\u001b[39m.\u001b[39muint8))\n\u001b[1;32m     10\u001b[0m         eigenface_image\u001b[39m.\u001b[39mshow(title\u001b[39m=\u001b[39m\u001b[39mf\u001b[39m\u001b[39m\"\u001b[39m\u001b[39mEigenface \u001b[39m\u001b[39m{\u001b[39;00mi\u001b[39m+\u001b[39m\u001b[39m1\u001b[39m\u001b[39m}\u001b[39;00m\u001b[39m\"\u001b[39m)\n\u001b[0;32m---> 11\u001b[0m EigenFaces(\u001b[39m9\u001b[39;49m)\n",
      "Cell \u001b[0;32mIn[36], line 8\u001b[0m, in \u001b[0;36mEigenFaces\u001b[0;34m(num_components)\u001b[0m\n\u001b[1;32m      5\u001b[0m transformed_data \u001b[39m=\u001b[39m pca\u001b[39m.\u001b[39mfit_transform(X)\n\u001b[1;32m      7\u001b[0m \u001b[39mfor\u001b[39;00m i,component \u001b[39min\u001b[39;00m \u001b[39menumerate\u001b[39m(pca\u001b[39m.\u001b[39mcomponents_):\n\u001b[0;32m----> 8\u001b[0m     eigenface \u001b[39m=\u001b[39m component\u001b[39m.\u001b[39;49mreshape((\u001b[39m64\u001b[39;49m,\u001b[39m64\u001b[39;49m))\n\u001b[1;32m      9\u001b[0m     eigenface_image \u001b[39m=\u001b[39m Image\u001b[39m.\u001b[39mfromarray(eigenface\u001b[39m.\u001b[39mastype(np\u001b[39m.\u001b[39muint8))\n\u001b[1;32m     10\u001b[0m     eigenface_image\u001b[39m.\u001b[39mshow(title\u001b[39m=\u001b[39m\u001b[39mf\u001b[39m\u001b[39m\"\u001b[39m\u001b[39mEigenface \u001b[39m\u001b[39m{\u001b[39;00mi\u001b[39m+\u001b[39m\u001b[39m1\u001b[39m\u001b[39m}\u001b[39;00m\u001b[39m\"\u001b[39m)\n",
      "\u001b[0;31mValueError\u001b[0m: cannot reshape array of size 64 into shape (64,64)"
     ]
    }
   ],
   "source": [
    "def EigenFaces(num_components):\n",
    "    data,labels = LoadImages('./faces',1)\n",
    "    X = pd.DataFrame(data,columns=labels)\n",
    "    pca = PCA(n_components=num_components)\n",
    "    transformed_data = pca.fit_transform(X)\n",
    "\n",
    "    for i,component in enumerate(pca.components_):\n",
    "        eigenface = component.reshape(64)\n",
    "        eigenface_image = Image.fromarray(eigenface.astype(np.uint8))\n",
    "        eigenface_image.show(title=f\"Eigenface {i+1}\")\n",
    "EigenFaces(9)"
   ]
  }
 ],
 "metadata": {
  "kernelspec": {
   "display_name": "base",
   "language": "python",
   "name": "python3"
  },
  "language_info": {
   "codemirror_mode": {
    "name": "ipython",
    "version": 3
   },
   "file_extension": ".py",
   "mimetype": "text/x-python",
   "name": "python",
   "nbconvert_exporter": "python",
   "pygments_lexer": "ipython3",
   "version": "3.9.12"
  },
  "orig_nbformat": 4
 },
 "nbformat": 4,
 "nbformat_minor": 2
}
