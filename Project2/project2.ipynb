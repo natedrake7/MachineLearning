{
 "cells": [
  {
   "attachments": {},
   "cell_type": "markdown",
   "metadata": {},
   "source": [
    "Λαμπρόπουλος Κωνσταντίνος $$ $$\n",
    "ΑΜ : 1115201800092"
   ]
  },
  {
   "attachments": {},
   "cell_type": "markdown",
   "metadata": {},
   "source": [
    "Imports"
   ]
  },
  {
   "cell_type": "code",
   "execution_count": 197,
   "metadata": {},
   "outputs": [],
   "source": [
    "import pandas as pd\n",
    "import numpy as np\n",
    "from PIL import Image\n",
    "import glob\n",
    "from sklearn.decomposition import PCA\n",
    "import matplotlib.pyplot as plt\n",
    "import pickle\n",
    "from sklearn.model_selection import train_test_split\n",
    "from sklearn.naive_bayes import GaussianNB\n",
    "from sklearn.svm import SVC\n",
    "from sklearn.neighbors import KNeighborsClassifier\n",
    "from sklearn.ensemble import RandomForestClassifier\n",
    "from sklearn.metrics import accuracy_score\n",
    "pd.set_option(\"display.max_rows\",None)\n",
    "pd.set_option(\"display.max_columns\",None)"
   ]
  },
  {
   "attachments": {},
   "cell_type": "markdown",
   "metadata": {},
   "source": [
    "Load Image"
   ]
  },
  {
   "cell_type": "code",
   "execution_count": 198,
   "metadata": {},
   "outputs": [],
   "source": [
    "def LoadImages(path,set_number):\n",
    "    loadedimages = []\n",
    "    labels = []\n",
    "    for i in range(1,65):\n",
    "        labels.append(f\"{set_number}_{i}\")\n",
    "        if set_number < 10:\n",
    "            if i < 10:\n",
    "                image_path = f\"{path}/person0{set_number}_0{i}.png\"\n",
    "            else:\n",
    "                image_path = f\"{path}/person0{set_number}_{i}.png\"\n",
    "            image = Image.open(image_path)\n",
    "            loadedimages.append(np.array(image).flatten())\n",
    "        else:\n",
    "            if i < 10:\n",
    "                image_path = f\"{path}/person{set_number}_0{i}.png\"\n",
    "            else:\n",
    "                image_path = f\"{path}/person{set_number}_{i}.png\"\n",
    "            image = Image.open(image_path)\n",
    "            loadedimages.append(np.array(image).flatten())   \n",
    "    return (np.array(loadedimages),labels)\n"
   ]
  },
  {
   "attachments": {},
   "cell_type": "markdown",
   "metadata": {},
   "source": [
    "Perform PCA"
   ]
  },
  {
   "cell_type": "code",
   "execution_count": 199,
   "metadata": {},
   "outputs": [],
   "source": [
    "def PerformPCA(X,num_components):\n",
    "    pca = PCA(n_components=num_components,whiten=True)\n",
    "    transformed_data = pca.fit_transform(X)\n",
    "    eigen_vectors = pca.components_\n",
    "    eigen_values = pca.explained_variance_\n",
    "    return (transformed_data,eigen_vectors)"
   ]
  },
  {
   "attachments": {},
   "cell_type": "markdown",
   "metadata": {},
   "source": [
    "Eigen Space"
   ]
  },
  {
   "cell_type": "code",
   "execution_count": 200,
   "metadata": {},
   "outputs": [],
   "source": [
    "def ProjectToEigenSpace(new_data,train_data,eigenvectors):\n",
    "    # Calculate the mean face from the training data\n",
    "    mean_face = np.mean(train_data, axis=0)\n",
    "\n",
    "    # Subtract the mean face from the new data point\n",
    "    centered_data = new_data - mean_face\n",
    "\n",
    "    # Project the centered data point onto the eigenvectors\n",
    "    projected_data = np.dot(centered_data, eigenvectors.T)\n",
    "\n",
    "    return projected_data\n"
   ]
  },
  {
   "attachments": {},
   "cell_type": "markdown",
   "metadata": {},
   "source": [
    "Face Recognition"
   ]
  },
  {
   "cell_type": "code",
   "execution_count": 201,
   "metadata": {},
   "outputs": [],
   "source": [
    "def FaceRecognition(train_data, train_labels,test_data):\n",
    "    knn = NearestNeighbors(n_neighbors=1)\n",
    "    knn.fit(train_data,train_labels)\n",
    "    distances, indices = knn.kneighbors(test_data)\n",
    "    predictions = np.array(train_labels)[indices]\n",
    "    return predictions"
   ]
  },
  {
   "attachments": {},
   "cell_type": "markdown",
   "metadata": {},
   "source": [
    "main"
   ]
  },
  {
   "cell_type": "code",
   "execution_count": 207,
   "metadata": {},
   "outputs": [
    {
     "name": "stdout",
     "output_type": "stream",
     "text": [
      "Set_1:\n",
      "- Accuracy (d=9): 100.00%\n",
      "- Accuracy (d=30): 100.00%\n",
      "Set_2:\n",
      "- Accuracy (d=9): 0.00%\n",
      "- Accuracy (d=30): 0.00%\n",
      "Set_3:\n",
      "- Accuracy (d=9): 0.00%\n",
      "- Accuracy (d=30): 0.00%\n",
      "Set_4:\n",
      "- Accuracy (d=9): 0.00%\n",
      "- Accuracy (d=30): 0.00%\n",
      "Set_5:\n",
      "- Accuracy (d=9): 0.00%\n",
      "- Accuracy (d=30): 0.00%\n"
     ]
    }
   ],
   "source": [
    "def TrainEigenfaces(train_data, train_labels, d):\n",
    "    # Perform PCA on the training data\n",
    "    pca = PCA(n_components=d)\n",
    "    transformed_train_data = pca.fit_transform(train_data)\n",
    "\n",
    "    # Train a classifier (e.g., nearest neighbor)\n",
    "    classifier = KNeighborsClassifier(n_neighbors=1)\n",
    "    classifier.fit(transformed_train_data, train_labels)\n",
    "\n",
    "    return pca, classifier\n",
    "\n",
    "def TestEigenfaces(pca, classifier, test_data):\n",
    "    # Project test data onto the eigenvectors\n",
    "    transformed_test_data = pca.transform(test_data)\n",
    "\n",
    "    # Predict labels for the projected test data\n",
    "    predicted_labels = classifier.predict(transformed_test_data)\n",
    "\n",
    "    return predicted_labels\n",
    "\n",
    "def CalculateAccuracy(true_labels, predicted_labels):\n",
    "    accuracy = accuracy_score(true_labels, predicted_labels) * 100\n",
    "    return accuracy\n",
    "\n",
    "# Load training data and labels for Set_1\n",
    "train_data, train_labels = LoadImages('./faces', set_number=1)\n",
    "\n",
    "# Train Eigenfaces with d=9\n",
    "pca_9, classifier_9 = TrainEigenfaces(train_data, train_labels, d=9)\n",
    "\n",
    "# Train Eigenfaces with d=30\n",
    "pca_30, classifier_30 = TrainEigenfaces(train_data, train_labels, d=30)\n",
    "\n",
    "# Evaluate on Sets 1 to 5\n",
    "for set_number in range(1, 6):\n",
    "    # Load test data and labels for the current set\n",
    "    test_data, test_labels = LoadImages('./faces', set_number=set_number)\n",
    "\n",
    "    # Test Eigenfaces with d=9\n",
    "    predicted_labels_9 = TestEigenfaces(pca_9, classifier_9, test_data)\n",
    "    accuracy_9 = CalculateAccuracy(test_labels, predicted_labels_9)\n",
    "\n",
    "    # Test Eigenfaces with d=30\n",
    "    predicted_labels_30 = TestEigenfaces(pca_30, classifier_30, test_data)\n",
    "    accuracy_30 = CalculateAccuracy(test_labels, predicted_labels_30)\n",
    "\n",
    "    print(f\"Set_{set_number}:\")\n",
    "    print(f\"- Accuracy (d=9): {accuracy_9:.2f}%\")\n",
    "    print(f\"- Accuracy (d=30): {accuracy_30:.2f}%\")\n"
   ]
  }
 ],
 "metadata": {
  "kernelspec": {
   "display_name": "base",
   "language": "python",
   "name": "python3"
  },
  "language_info": {
   "codemirror_mode": {
    "name": "ipython",
    "version": 3
   },
   "file_extension": ".py",
   "mimetype": "text/x-python",
   "name": "python",
   "nbconvert_exporter": "python",
   "pygments_lexer": "ipython3",
   "version": "3.9.12"
  },
  "orig_nbformat": 4
 },
 "nbformat": 4,
 "nbformat_minor": 2
}
