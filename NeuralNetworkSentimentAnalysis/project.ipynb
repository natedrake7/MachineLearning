{
 "cells": [
  {
   "cell_type": "code",
   "execution_count": 1,
   "metadata": {},
   "outputs": [
    {
     "name": "stderr",
     "output_type": "stream",
     "text": [
      "[nltk_data] Downloading package stopwords to\n",
      "[nltk_data]     /home/natedrake7/nltk_data...\n",
      "[nltk_data]   Package stopwords is already up-to-date!\n",
      "[nltk_data] Downloading package punkt to /home/natedrake7/nltk_data...\n",
      "[nltk_data]   Package punkt is already up-to-date!\n"
     ]
    },
    {
     "data": {
      "text/plain": [
       "True"
      ]
     },
     "execution_count": 1,
     "metadata": {},
     "output_type": "execute_result"
    }
   ],
   "source": [
    "from gensim.models import Word2Vec\n",
    "from nltk.tokenize import word_tokenize\n",
    "import nltk\n",
    "nltk.download('stopwords')\n",
    "from nltk.corpus import stopwords\n",
    "import pandas as pd\n",
    "import numpy as np\n",
    "from sklearn.preprocessing import LabelEncoder\n",
    "from sklearn.model_selection import train_test_split\n",
    "import torch\n",
    "import torch.nn as nn \n",
    "import torch.nn.functional as F \n",
    "from torch.nn.utils.rnn import pad_sequence\n",
    "from torch.utils.data import TensorDataset, DataLoader\n",
    "from torchmetrics.classification import ConfusionMatrix,F1Score\n",
    "import unicodedata\n",
    "import spacy\n",
    "import re\n",
    "import matplotlib.pyplot as plt\n",
    "from sklearn.feature_extraction.text import TfidfVectorizer\n",
    "nltk.download('punkt')"
   ]
  },
  {
   "cell_type": "markdown",
   "metadata": {},
   "source": [
    "Pre-Processing"
   ]
  },
  {
   "cell_type": "code",
   "execution_count": null,
   "metadata": {},
   "outputs": [],
   "source": [
    "#Read csv files\n",
    "train_set = pd.read_csv('./Data/train_set.csv')\n",
    "valid_set = pd.read_csv('./Data/valid_set.csv')\n",
    "test_set = pd.read_csv('./Data/test_set.csv')\n",
    "\n",
    "\n",
    "\n",
    "#Drop Party and New ID columns since we dont need them\n",
    "labels_to_drop = ['Party','New_ID']\n",
    "train_set = train_set.drop(columns=labels_to_drop)\n",
    "valid_set = valid_set.drop(columns=labels_to_drop)\n",
    "test_set = test_set.drop(columns=['Party'])\n",
    "\n",
    "#Make all text lowercase\n",
    "train_set['Text'] = train_set['Text'].str.lower()\n",
    "valid_set['Text'] = valid_set['Text'].str.lower()\n",
    "test_set['Text'] = test_set['Text'].str.lower()\n",
    "\n",
    "train_set['Text'] = train_set['Text'].apply(lambda x: re.sub(r'#', '', x))\n",
    "valid_set['Text'] = valid_set['Text'].apply(lambda x: re.sub(r'#', '', x))\n",
    "test_set['Text'] = test_set['Text'].apply(lambda x: re.sub(r'#', '', x))\n",
    "\n",
    "#Remove accents from all text\n",
    "def remove_accents(input_str):\n",
    "    nfkd_form = unicodedata.normalize('NFKD', input_str)\n",
    "    return ''.join([c for c in nfkd_form if not unicodedata.combining(c)])\n",
    "\n",
    "train_set['Text'] = train_set['Text'].apply(remove_accents)\n",
    "valid_set['Text'] = valid_set['Text'].apply(remove_accents)\n",
    "test_set['Text'] = test_set['Text'].apply(remove_accents)\n",
    "\n",
    "#Remove stopwords and replace them with a single space\n",
    "stop = stopwords.words('greek')\n",
    "pat = r'\\b(?:{})\\b'.format('|'.join(stop))\n",
    "\n",
    "train_set['Text'] = train_set['Text'].str.replace(pat,'',regex=True)\n",
    "valid_set['Text'] = valid_set['Text'].str.replace(pat,'',regex=True)\n",
    "test_set['Text'] = test_set['Text'].str.replace(pat,'',regex=True)\n",
    "\n",
    "#Remove multiple white spaces and replace them with a single space\n",
    "train_set['Text'] = train_set['Text'].str.replace(r'\\s+',' ',regex=True) #remove multiple whitespaces\n",
    "valid_set['Text'] = valid_set['Text'].str.replace(r'\\s+',' ',regex=True) #remove multiple whitespaces\n",
    "test_set['Text'] = test_set['Text'].str.replace(r'\\s+',' ',regex=True) #remove multiple whitespaces\n",
    "\n",
    "#Remove links and replace them with a single space\n",
    "train_set['Text'] = train_set['Text'].apply(lambda x: re.sub('https?://[A-Za-z0-9./]+','',x)) #remove links\n",
    "valid_set['Text'] = valid_set['Text'].apply(lambda x: re.sub('https?://[A-Za-z0-9./]+','',x)) #remove links\n",
    "test_set['Text'] = test_set['Text'].apply(lambda x: re.sub('https?://[A-Za-z0-9./]+','',x)) #remove links\n",
    "\n",
    "#Replace non greek words with single whitespace\n",
    "train_set['Text'] = train_set['Text'].apply(lambda x: re.sub(r'[^α-ωΑ-Ω0-9\\s]', ' ', x, flags=re.UNICODE))      \n",
    "valid_set['Text'] = valid_set['Text'].apply(lambda x: re.sub(r'[^α-ωΑ-Ω0-9\\s]', ' ', x, flags=re.UNICODE))      \n",
    "test_set['Text'] = test_set['Text'].apply(lambda x: re.sub(r'[^α-ωΑ-Ω0-9\\s]', ' ', x, flags=re.UNICODE))\n",
    "\n",
    "#Find retweets and replace them withn single whitespace\n",
    "train_set['Text'] = train_set['Text'].apply(lambda x: re.sub(r'^RT[\\s]+', '', x))\n",
    "valid_set['Text'] = valid_set['Text'].apply(lambda x: re.sub(r'^RT[\\s]+', '', x))\n",
    "test_set['Text'] = test_set['Text'].apply(lambda x: re.sub(r'^RT[\\s]+', '', x))\n",
    "\n",
    "#Load lemmatizer\n",
    "nlp = spacy.load(\"el_core_news_sm\")\n",
    "\n",
    "def lemmatize_text(text):\n",
    "    doc = nlp(text)\n",
    "    lemmatized_text = \" \".join([token.lemma_ for token in doc])\n",
    "    return lemmatized_text\n",
    "\n",
    "#Lemmatize text to replace words with their dictionary value\n",
    "train_set['Text'] = train_set['Text'].apply(lemmatize_text)\n",
    "valid_set['Text'] = valid_set['Text'].apply(lemmatize_text)\n",
    "test_set['Text'] = test_set['Text'].apply(lemmatize_text)"
   ]
  },
  {
   "cell_type": "markdown",
   "metadata": {},
   "source": [
    "Save Pre-Processed Data"
   ]
  },
  {
   "cell_type": "code",
   "execution_count": null,
   "metadata": {},
   "outputs": [],
   "source": [
    "train_set.to_csv('processed_df',index=False)\n",
    "valid_set.to_csv('processed_valid',index=False)\n",
    "test_set.to_csv('processed_test',index=False)"
   ]
  },
  {
   "cell_type": "markdown",
   "metadata": {},
   "source": [
    "Load Pre-Processed Data"
   ]
  },
  {
   "cell_type": "code",
   "execution_count": 2,
   "metadata": {},
   "outputs": [],
   "source": [
    "train_set = pd.read_csv('processed_df')\n",
    "\n",
    "test_set = pd.read_csv('processed_test')\n",
    "\n",
    "valid_set = pd.read_csv('processed_valid')"
   ]
  },
  {
   "cell_type": "markdown",
   "metadata": {},
   "source": [
    "Tokenize Text and create W2V Model"
   ]
  },
  {
   "cell_type": "code",
   "execution_count": null,
   "metadata": {},
   "outputs": [],
   "source": [
    "train_set['Tokenized_Text'] = train_set['Text'].apply(lambda x: word_tokenize(x))\n",
    "\n",
    "# Create Word2Vec models\n",
    "model = Word2Vec(sentences=train_set['Tokenized_Text'], vector_size=250,window=5,min_count=2,sg = 1,hs = 0,negative = 10)\n",
    "\n",
    "model.train(train_set['Tokenized_Text'], total_examples= len(train_set['Text']), epochs=20)\n",
    "\n",
    "# Save the model\n",
    "model.save(\"./Data/word2vec.model\")"
   ]
  },
  {
   "cell_type": "markdown",
   "metadata": {},
   "source": [
    "Load self-trained Word2Vec Model"
   ]
  },
  {
   "cell_type": "code",
   "execution_count": 3,
   "metadata": {},
   "outputs": [],
   "source": [
    "word2vec_model = Word2Vec.load('./Data/word2vec.model')"
   ]
  },
  {
   "cell_type": "code",
   "execution_count": 4,
   "metadata": {},
   "outputs": [
    {
     "name": "stdout",
     "output_type": "stream",
     "text": [
      "[('αλαζονικος', 0.5175630450248718), ('κρασιος', 0.46218010783195496), ('εψαχνας', 0.459391713142395), ('βανδαλος', 0.4532196819782257), ('αποχαιρετηζω', 0.4530605673789978), ('δειχνη', 0.4384254217147827), ('κολλημενος', 0.43832316994667053), ('διστασε', 0.43790578842163086), ('μοιραιο', 0.4370492994785309), ('μαχες', 0.43514540791511536)]\n"
     ]
    }
   ],
   "source": [
    "print(word2vec_model.wv.most_similar('τσιπρας'))\n",
    "valid_set['Tokenized_Text'] = valid_set['Text'].apply(lambda x: word_tokenize(x))\n",
    "train_set['Tokenized_Text'] = train_set['Text'].apply(lambda x: word_tokenize(x))"
   ]
  },
  {
   "cell_type": "markdown",
   "metadata": {},
   "source": [
    "Encode Labels"
   ]
  },
  {
   "cell_type": "code",
   "execution_count": 5,
   "metadata": {},
   "outputs": [
    {
     "name": "stdout",
     "output_type": "stream",
     "text": [
      "['NEGATIVE' 'NEUTRAL' 'POSITIVE']\n",
      "[0 1 2]\n"
     ]
    }
   ],
   "source": [
    "encoder  = LabelEncoder() #initialize label encoder so we can set integer values to the label unique values\n",
    "\n",
    "X_train_labels = encoder.fit_transform(train_set['Sentiment'])\n",
    "X_valid_labels = encoder.fit_transform(valid_set['Sentiment'])\n",
    "\n",
    "print(encoder.classes_)\n",
    "print(encoder.transform(encoder.classes_))\n",
    "labels = {0 : 'NEGATIVE',1 : 'NEUTRAL',2 : 'POSITIVE'}"
   ]
  },
  {
   "cell_type": "code",
   "execution_count": 6,
   "metadata": {},
   "outputs": [],
   "source": [
    "def word_vector(tokens, size):\n",
    "    vec = np.zeros(size).reshape((1, size))\n",
    "    count = 0\n",
    "    for word in tokens:\n",
    "        try:\n",
    "            vec += word2vec_model.wv[word].reshape((1, size))\n",
    "            count += 1.\n",
    "        except KeyError:  # handling the case where the token is not in vocabulary\n",
    "            continue\n",
    "    if count != 0:\n",
    "        vec /= count\n",
    "    return vec"
   ]
  },
  {
   "cell_type": "code",
   "execution_count": 7,
   "metadata": {},
   "outputs": [],
   "source": [
    "wordvec_train_arrays = np.zeros((len(train_set['Tokenized_Text']), 250)) \n",
    "wordvec_valid_arrays = np.zeros((len(valid_set['Tokenized_Text']), 250)) \n",
    "\n",
    "for i in range(len(train_set['Tokenized_Text'])):\n",
    "    wordvec_train_arrays[i,:] = word_vector(train_set['Tokenized_Text'][i], 250)\n",
    "for i in range(len(valid_set['Tokenized_Text'])):\n",
    "   wordvec_valid_arrays[i,:] = word_vector(valid_set['Tokenized_Text'][i], 250)\n"
   ]
  },
  {
   "cell_type": "code",
   "execution_count": 15,
   "metadata": {},
   "outputs": [
    {
     "data": {
      "text/plain": [
       "(36630, 250)"
      ]
     },
     "execution_count": 15,
     "metadata": {},
     "output_type": "execute_result"
    }
   ],
   "source": [
    "wordvec_train_arrays.shape"
   ]
  },
  {
   "cell_type": "markdown",
   "metadata": {},
   "source": [
    "Create Tensorflow tensors"
   ]
  },
  {
   "cell_type": "code",
   "execution_count": 22,
   "metadata": {},
   "outputs": [],
   "source": [
    "batch_size = 1\n",
    "\n",
    "#Train set\n",
    "X_train_tensor = torch.tensor(wordvec_train_arrays,dtype=torch.float)\n",
    "Labels_train_tensor = torch.tensor(X_train_labels,dtype=torch.long) #create a torch tensor for the labels from the numpy array\n",
    "Dataset = TensorDataset(X_train_tensor,Labels_train_tensor) #Create a dataset\n",
    "Train_set = DataLoader(Dataset,batch_size=batch_size,shuffle=True) #Create the train set\n",
    "\n",
    "\n",
    "#Val set\n",
    "X_val_tensor = torch.tensor(wordvec_valid_arrays,dtype=torch.float)\n",
    "Labels_val_tensor = torch.tensor(X_valid_labels,dtype=torch.long) #create a torch tensor for the labels from the numpy array\n",
    "Dataset = TensorDataset(X_val_tensor,Labels_val_tensor) #Create a dataset\n",
    "Validation_set = DataLoader(Dataset,batch_size=batch_size,shuffle=True) #Create the validation set"
   ]
  },
  {
   "cell_type": "markdown",
   "metadata": {},
   "source": [
    "Set Gpu Or Cpu"
   ]
  },
  {
   "cell_type": "code",
   "execution_count": 23,
   "metadata": {},
   "outputs": [
    {
     "name": "stdout",
     "output_type": "stream",
     "text": [
      "Device = cuda\n"
     ]
    }
   ],
   "source": [
    "if torch.cuda.is_available(): #if nvidia gpu is available\n",
    "   device=\"cuda\" #set devide to cuda since GPUs are much faster at deep learning\n",
    "else: \n",
    "   device=\"cpu\" #else set CPU\n",
    "print(\"Device =\",device)"
   ]
  },
  {
   "cell_type": "markdown",
   "metadata": {},
   "source": [
    "FeedForward Neural Network"
   ]
  },
  {
   "cell_type": "code",
   "execution_count": 24,
   "metadata": {},
   "outputs": [],
   "source": [
    "class FeedForwardNeuralNetwork(nn.Module):\n",
    "    def __init__(self, dropout_rate= 0.5): #initialize feedforward network\n",
    "        super(FeedForwardNeuralNetwork, self).__init__()\n",
    "        self.linear1 = nn.Linear(250, 128) # You can also try include activation functions to check how your model will behave\n",
    "        self.dropout1 = nn.Dropout(dropout_rate) #set for each fully connected layer the dropout rate\n",
    "        self.linear2 = nn.Linear(128, 64)\n",
    "        self.dropout2 = nn.Dropout(dropout_rate) #set for each fully connected layer the dropout rate\n",
    "        self.linear3 = nn.Linear(64, 32)\n",
    "        self.dropout3 = nn.Dropout(dropout_rate) #set for each fully connected layer the dropout rate\n",
    "        self.linear4 = nn.Linear(32, 3)\n",
    "        \n",
    "    def forward(self, x):\n",
    "        h1 = F.hardtanh(self.linear1(x))\n",
    "        h2 = F.hardtanh(self.linear2(h1))\n",
    "        h3 = F.hardtanh(self.linear3(h2))\n",
    "        out = self.linear4(h3)\n",
    "        return out\n",
    "    \n",
    "model = FeedForwardNeuralNetwork(dropout_rate = 0.7).to(device) #Create a feedforward network instance"
   ]
  },
  {
   "cell_type": "markdown",
   "metadata": {},
   "source": [
    "Train Function"
   ]
  },
  {
   "cell_type": "code",
   "execution_count": 25,
   "metadata": {},
   "outputs": [],
   "source": [
    "def Train(dataLoader,model,loss_fn,optimizer):\n",
    "    losses = []\n",
    "    size = len(dataLoader.dataset) #Get the size of the dataset\n",
    "    f1 = 0 #declare f1 score to 0\n",
    "    f1_score = F1Score(task='multiclass',num_classes=3,average='weighted').to(device)\n",
    "    \n",
    "    for batch, (X,y) in enumerate(dataLoader): #iterate all the dataset\n",
    "\n",
    "        X = X.to(device) #Load variables to GPU\n",
    "        y = y.to(device) #Load variables to GPU\n",
    "        \n",
    "        pred = model(X) #predict the label\n",
    "\n",
    "        loss = loss_fn(pred,y) #find the loss between the prediction and the true label\n",
    "        losses.append(loss.item())\n",
    "\n",
    "        #BackPropagation\n",
    "        optimizer.zero_grad() #reset all the gradients\n",
    "\n",
    "        loss.backward()\n",
    "        \n",
    "        optimizer.step() #perform a step\n",
    "\n",
    "        f1 += f1_score(pred.argmax(1),y) #calculate the f1 score\n",
    "\n",
    "    f1 /= size #find the average f1 score    \n",
    "    return f1, sum(losses)/len(losses)"
   ]
  },
  {
   "cell_type": "markdown",
   "metadata": {},
   "source": [
    "Validation Function"
   ]
  },
  {
   "cell_type": "code",
   "execution_count": 26,
   "metadata": {},
   "outputs": [],
   "source": [
    "def Validation(dataloader,model,loss_fn):\n",
    "    size = len(dataloader.dataset) #get the size of the dataset\n",
    "    f1 = 0 #declare f1 score to 0\n",
    "    f1_score = F1Score(task='multiclass',num_classes=3,average='weighted').to(device)\n",
    "    losses = []\n",
    "\n",
    "    with torch.no_grad(): #disable gradient caclulation since we are validating not training\n",
    "        for X,y in dataloader:\n",
    "\n",
    "            X = X.to(device)#Load to GPU\n",
    "            y = y.to(device) #Load variables to GPU\n",
    "        \n",
    "            pred = model(X) #predict the label\n",
    "            \n",
    "            loss = loss_fn(pred,y) #find the loss between the prediction and the true label\n",
    "            losses.append(loss.item())\n",
    "            f1 += f1_score(pred.argmax(1),y) #calculate the f1 score\n",
    "    f1 /= size #find the average f1 score\n",
    "    return f1, (sum(losses)/len(losses))"
   ]
  },
  {
   "cell_type": "markdown",
   "metadata": {},
   "source": [
    "Test Function"
   ]
  },
  {
   "cell_type": "code",
   "execution_count": 27,
   "metadata": {},
   "outputs": [],
   "source": [
    "def Test(dataloader,model,loss_fn):\n",
    "    size = len(dataloader.dataset) #get the size of the dataset\n",
    "    test_loss,correct,f1 = 0,0,0 #declare variables\n",
    "    f1_score = F1Score(task='multiclass',num_classes=3,average='weighted').to(device) \n",
    "\n",
    "    with torch.no_grad(): #disable gradient caclulation since we are testing not training\n",
    "        for X,y in dataloader:\n",
    "\n",
    "            X = X.to(device) #Load to GPU\n",
    "            y = y.to(device) #Load to GPU\n",
    "\n",
    "            pred = model(X) #predict the label\n",
    "\n",
    "            test_loss += loss_fn(pred,y).item() #find the loss_fn\n",
    "            \n",
    "            correct += (pred.argmax(1) == y).type(torch.float).sum().item() #find the accuracy\n",
    "            f1 += f1_score(pred.argmax(1),y) #find the f1 score\n",
    "    \n",
    "    test_loss /= size #compute the average loss\n",
    "    correct /= size #average accuracy\n",
    "    f1 /= size #average f1 score\n",
    "    confmat = ConfusionMatrix('multiclass',num_classes=3).to(device)\n",
    "    confusion_matrix = confmat(pred,y) #find the confusion matrix\n",
    "    print(f\"Test Error: \\n Accuracy: {(100*correct):>0.1f}%, Avg loss: {test_loss:>8f},Avg F1-Score: {f1:>8f}\\n\") #print statistics\n",
    "    print(f\"Confusion Matrix \\n: {confusion_matrix}\\n\") #print confusion matrix"
   ]
  },
  {
   "cell_type": "markdown",
   "metadata": {},
   "source": [
    "Learning Curve Function"
   ]
  },
  {
   "cell_type": "code",
   "execution_count": 28,
   "metadata": {},
   "outputs": [],
   "source": [
    "def plot_loss_learning_curve(train_losses, val_losses):\n",
    "    epochs = range(1, len(train_losses) + 1)\n",
    "\n",
    "    plt.plot(epochs,train_losses, label='Training Loss')\n",
    "    plt.plot(epochs,val_losses, label='Validation Loss')\n",
    "\n",
    "    plt.xlabel('Epoch')\n",
    "    plt.ylabel('Loss')\n",
    "\n",
    "    plt.legend()\n",
    "\n",
    "    plt.title('Learning Curve')\n",
    "    \n",
    "    plt.show()\n",
    "\n",
    "def plot_f1_learning_curve(train_f1, val_f1):\n",
    "    epochs = range(1, len(train_f1) + 1)\n",
    "\n",
    "    plt.plot(epochs,train_f1, label='Training F1')\n",
    "    plt.plot(epochs,val_f1, label='Validation F1')\n",
    "\n",
    "    plt.xlabel('Epoch')\n",
    "    plt.ylabel('F1-Score')\n",
    "\n",
    "    plt.legend()\n",
    "\n",
    "    plt.title('Learning Curve')\n",
    "    \n",
    "    plt.show()"
   ]
  },
  {
   "cell_type": "markdown",
   "metadata": {},
   "source": [
    "Final Training-Validation"
   ]
  },
  {
   "cell_type": "code",
   "execution_count": 29,
   "metadata": {},
   "outputs": [
    {
     "name": "stdout",
     "output_type": "stream",
     "text": [
      "Adjusting learning rate of group 0 to 1.0000e-04.\n",
      "Adjusting learning rate of group 0 to 3.3333e-05.\n",
      "Epoch 1\n",
      "-------------------------------\n",
      "Adjusting learning rate of group 0 to 1.7067e-05.\n",
      "Adjusting learning rate of group 0 to 2.3893e-05.\n",
      "Epoch 2\n",
      "-------------------------------\n",
      "Adjusting learning rate of group 0 to 1.0080e-05.\n",
      "Adjusting learning rate of group 0 to 1.2960e-05.\n",
      "Epoch 3\n",
      "-------------------------------\n",
      "Adjusting learning rate of group 0 to 3.8400e-06.\n",
      "Adjusting learning rate of group 0 to 4.6933e-06.\n",
      "Epoch 4\n",
      "-------------------------------\n",
      "Adjusting learning rate of group 0 to 5.8667e-07.\n",
      "Adjusting learning rate of group 0 to 6.9333e-07.\n",
      "Epoch 5\n",
      "-------------------------------\n",
      "Adjusting learning rate of group 0 to 0.0000e+00.\n",
      "Adjusting learning rate of group 0 to 0.0000e+00.\n",
      "Epoch 6\n",
      "-------------------------------\n",
      "Adjusting learning rate of group 0 to 0.0000e+00.\n",
      "Adjusting learning rate of group 0 to 0.0000e+00.\n",
      "Epoch 7\n",
      "-------------------------------\n",
      "Adjusting learning rate of group 0 to 0.0000e+00.\n",
      "Adjusting learning rate of group 0 to 0.0000e+00.\n",
      "Epoch 8\n",
      "-------------------------------\n",
      "Adjusting learning rate of group 0 to 0.0000e+00.\n",
      "Adjusting learning rate of group 0 to 0.0000e+00.\n",
      "Epoch 9\n",
      "-------------------------------\n",
      "Adjusting learning rate of group 0 to 0.0000e+00.\n",
      "Adjusting learning rate of group 0 to 0.0000e+00.\n",
      "Epoch 10\n",
      "-------------------------------\n",
      "Adjusting learning rate of group 0 to 0.0000e+00.\n",
      "Adjusting learning rate of group 0 to 0.0000e+00.\n",
      "Epoch 11\n",
      "-------------------------------\n",
      "Adjusting learning rate of group 0 to 0.0000e+00.\n",
      "Adjusting learning rate of group 0 to 0.0000e+00.\n",
      "Epoch 12\n",
      "-------------------------------\n",
      "Adjusting learning rate of group 0 to 0.0000e+00.\n",
      "Adjusting learning rate of group 0 to 0.0000e+00.\n",
      "Best Model computed by finding the model with the highest f1 score on the validation set: 0.393731\n",
      "\n"
     ]
    },
    {
     "data": {
      "image/png": "[encoded data removed]",
      "text/plain": [
       "<Figure size 640x480 with 1 Axes>"
      ]
     },
     "metadata": {},
     "output_type": "display_data"
    },
    {
     "data": {
      "image/png": "[encoded data removed]",
      "text/plain": [
       "<Figure size 640x480 with 1 Axes>"
      ]
     },
     "metadata": {},
     "output_type": "display_data"
    },
    {
     "name": "stdout",
     "output_type": "stream",
     "text": [
      "Test Error: \n",
      " Accuracy: 39.1%, Avg loss: 1.079280,Avg F1-Score: 0.390864\n",
      "\n",
      "Confusion Matrix \n",
      ": tensor([[0, 0, 0],\n",
      "        [1, 0, 0],\n",
      "        [0, 0, 0]], device='cuda:0')\n",
      "\n"
     ]
    }
   ],
   "source": [
    "loss_fn = nn.CrossEntropyLoss()\n",
    "best_f1 = 0 #initialize variables\n",
    "learning_rate = 1e-4\n",
    "patience = 0\n",
    "epochs_count = 30\n",
    "patience_tol = 10\n",
    "f1_train_scores = []\n",
    "f1_val_scores = []\n",
    "train_losses = []\n",
    "val_losses = []\n",
    "\n",
    "#optimizer = torch.optim.SGD(model.parameters(),lr=learning_rate,weight_decay=1e-7) #initialize optimizer ,weight_decay=1e-7\n",
    "\n",
    "optimizer = torch.optim.AdamW(model.parameters(),lr=learning_rate,weight_decay=1e-4) #initialize optimizer ,weight_decay=1e-7\n",
    "scheduler1 = torch.optim.lr_scheduler.PolynomialLR(optimizer,verbose=True,power=3.0)\n",
    "scheduler2 = torch.optim.lr_scheduler.LinearLR(optimizer,verbose=True)\n",
    "#scheduler1 = torch.optim.lr_scheduler.CosineAnnealingLR(optimizer,verbose=True,T_max=100) #initialize first scheduler\n",
    "#scheduler2 = torch.optim.lr_scheduler.ExponentialLR(optimizer,gamma=0.9,verbose=True) #and second scheduler\n",
    "scheduler = torch.optim.lr_scheduler.ChainedScheduler([scheduler1,scheduler2])\n",
    "\n",
    "for t in range(epochs_count): #iterate over the number of epochs\n",
    "    print(f\"Epoch {t+1}\\n-------------------------------\")\n",
    "    torch.cuda.synchronize()\n",
    "\n",
    "    f1_train,train_loss = Train(Train_set,model,loss_fn,optimizer) #train the convo network\n",
    "\n",
    "    f1_train_scores.append(f1_train.cpu())\n",
    "    train_losses.append(train_loss)\n",
    "    f1_val,val_loss = Validation(Validation_set,model,loss_fn) #find the current f1 score\n",
    "\n",
    "    f1_val_scores.append(f1_val.cpu())\n",
    "    val_losses.append(val_loss)\n",
    "\n",
    "    scheduler.step()\n",
    "\n",
    "    if f1_val > best_f1: #if it the best one yet\n",
    "        best_f1 = f1_val #set it as the best one\n",
    "        best_model = model #this is the best model yet\n",
    "        patience = 0\n",
    "    else:\n",
    "        patience+=1 #else increment patience\n",
    "    if patience == patience_tol: #if we have iterated over a number of epochs and still the model we found is the best one\n",
    "        break #break from the iteration\n",
    "\n",
    "print(f\"Best Model computed by finding the model with the highest f1 score on the validation set: {best_f1:>8f}\\n\")\n",
    "plot_loss_learning_curve(train_losses=train_losses,val_losses=val_losses)\n",
    "plot_f1_learning_curve(train_f1=f1_train_scores,val_f1=f1_val_scores)\n",
    "Test(Validation_set,best_model,loss_fn) #print the best model found"
   ]
  },
  {
   "cell_type": "markdown",
   "metadata": {},
   "source": [
    "$\n",
    "\\begin{array}{|c|c|c|c|}\n",
    "\\hline\n",
    "\\text{Optimizer} & \\text{Accuracy} & \\text{F1-Score} & \\text{Time}\\\\\n",
    "\\hline\n",
    "\\text{SGD} & \\text{34.8\\%} & \\text{0.004260} & \\text{1m15.3s}\\\\\n",
    "\\hline\n",
    "\\text{Adadelta} & \\text{34.8\\%} & \\text{0.004406} & \\text{1m21.5s}\\\\\n",
    "\\hline\n",
    "\\text{Adagrad} & \\text{38.9\\%} & \\text{0.006006} & \\text{1m27.4s}\\\\\n",
    "\\hline\n",
    "\\text{Adam} & \\text{38.7\\%} & \\text{0.005971} & \\text{1m23.2s}\\\\\n",
    "\\hline\n",
    "\\text{AdamW} & \\text{38.8\\%} & \\text{0.006042} & \\text{1m24.3s}\\\\\n",
    "\\hline\n",
    "\\text{Adamax} & \\text{38.2\\%} & \\text{0.005930} & \\text{1m36.3s}\\\\\n",
    "\\hline\n",
    "\\text{ASGD} & \\text{38.1\\%} & \\text{0.005977} & \\text{1m24.1s}\\\\\n",
    "\\hline\n",
    "\\end{array}\n",
    "$"
   ]
  },
  {
   "cell_type": "markdown",
   "metadata": {},
   "source": [
    "Number of epochs not enough for model to learn,increase to 10,then 20 and then 30"
   ]
  },
  {
   "cell_type": "markdown",
   "metadata": {},
   "source": [
    "$\n",
    "\\begin{array}{|c|c|c|}\n",
    "\\hline\n",
    "\\text{Activator} & \\text{Accuracy} & \\text{F1-Score}\\\\\n",
    "\\hline\n",
    "\\text{ReLu} & \\text{38.8\\%} & \\text{0.006042}\\\\\n",
    "\\hline\n",
    "\\text{ELU} & \\text{39.7\\%} & \\text{0.006083}\\\\\n",
    "\\hline\n",
    "\\text{HardShrink} & \\text{33.3\\%} & \\text{0.002654}\\\\\n",
    "\\hline\n",
    "\\text{HardSigmoid} & \\text{39.4\\%} & \\text{0.005603}\\\\\n",
    "\\hline\n",
    "\\text{HardTanh} & \\text{39.4\\%} & \\text{0.006174}\\\\\n",
    "\\hline\n",
    "\\end{array}\n",
    "$"
   ]
  },
  {
   "cell_type": "markdown",
   "metadata": {},
   "source": [
    "$\n",
    "\\begin{array}{|c|c|c|}\n",
    "\\hline\n",
    "\\text{Learning Rate} & \\text{Accuracy} & \\text{F1-Score}\\\\\n",
    "\\hline\n",
    "\\text{1e-2} & \\text{33.3\\%} & \\text{0.002653}\\\\\n",
    "\\hline\n",
    "\\text{1e-3} & \\text{35.3\\%} & \\text{0.003555}\\\\\n",
    "\\hline\n",
    "\\text{1e-4} & \\text{39.4\\%} & \\text{0.006174}\\\\\n",
    "\\hline\n",
    "\\text{1e-5} & \\text{37.2\\%} & \\text{0.005535}\\\\\n",
    "\\hline\n",
    "\\text{1e-6} & \\text{37.4\\%} & \\text{0.005421}\\\\\n",
    "\\hline\n",
    "\\end{array}\n",
    "$"
   ]
  },
  {
   "cell_type": "markdown",
   "metadata": {},
   "source": [
    "$\n",
    "\\begin{array}{|c|c|c|}\n",
    "\\hline\n",
    "\\text{Scheduler} & \\text{Accuracy} & \\text{F1-Score}\\\\\n",
    "\\hline\n",
    "\\text{LinearLR} & \\text{39.6\\%} & \\text{0.005854}\\\\\n",
    "\\hline\n",
    "\\text{PolynomialLR} & \\text{39.8\\%} & \\text{0.005816}\\\\\n",
    "\\hline\n",
    "\\text{ExponentialLR} & \\text{39.3\\%} & \\text{0.005736}\\\\\n",
    "\\hline\n",
    "\\text{CosineAnnealingLR} & \\text{39.4\\%} & \\text{0.005846}\\\\\n",
    "\\hline\n",
    "\\text{LinearLR + PolynomialLR} & \\text{39.4\\%} & \\text{0.005920}\\\\\n",
    "\\hline\n",
    "\\end{array}\n",
    "$"
   ]
  },
  {
   "cell_type": "markdown",
   "metadata": {},
   "source": [
    "$\n",
    "\\begin{array}{|c|c|c|c|}\n",
    "\\hline\n",
    "\\text{Patience} & \\text{Accuracy} & \\text{F1-Score} & \\text{Time}\\\\\n",
    "\\hline\n",
    "\\text{3} & \\text{39.4\\%} & \\text{0.005907} & \\text{11.6s}\\\\\n",
    "\\hline\n",
    "\\text{5} & \\text{39.4\\%} & \\text{0.005925} & \\text{16.5}\\\\\n",
    "\\hline\n",
    "\\text{7} & \\text{39.5\\%} & \\text{0.005927} & \\text{26.9s}\\\\\n",
    "\\hline\n",
    "\\text{10} & \\text{39.6\\%} & \\text{0.005925} & \\text{32.8s}\\\\\n",
    "\\hline\n",
    "\\text{None} & \\text{39.5\\%} & \\text{0.005914} & \\text{1m26.1s}\\\\\n",
    "\\hline\n",
    "\\end{array}\n",
    "$\n"
   ]
  },
  {
   "cell_type": "markdown",
   "metadata": {},
   "source": [
    "$\n",
    "\\begin{array}{|c|c|c|}\n",
    "\\hline\n",
    "\\text{Weight Decay} & \\text{Accuracy} & \\text{F1-Score}\\\\\n",
    "\\hline\n",
    "\\text{0.5} & \\text{39.4\\%} & \\text{0.005905}\\\\\n",
    "\\hline\n",
    "\\text{1e-2} & \\text{39.6\\%} & \\text{0.005927}\\\\\n",
    "\\hline\n",
    "\\text{1e-3} & \\text{39.5\\%} & \\text{0.005926}\\\\\n",
    "\\hline\n",
    "\\text{1e-4} & \\text{39.4\\%} & \\text{0.006026}\\\\\n",
    "\\hline\n",
    "\\text{1e-5} & \\text{39.0\\%} & \\text{0.005966}\\\\\n",
    "\\hline\n",
    "\\end{array}\n",
    "$"
   ]
  },
  {
   "cell_type": "markdown",
   "metadata": {},
   "source": [
    "$\n",
    "\\begin{array}{|c|c|c|}\n",
    "\\hline\n",
    "\\text{Dropout Rate} & \\text{Accuracy} & \\text{F1-Score}\\\\\n",
    "\\hline\n",
    "\\text{0} & \\text{39.4\\%} & \\text{0.005988}\\\\\n",
    "\\hline\n",
    "\\text{0.1} & \\text{38.8\\%} & \\text{0.005975}\\\\\n",
    "\\hline\n",
    "\\text{0.2} & \\text{39.6\\%} & \\text{0.005928}\\\\\n",
    "\\hline\n",
    "\\text{0.5} & \\text{39.1\\%} & \\text{0.005985}\\\\\n",
    "\\hline\n",
    "\\text{0.7} & \\text{38.8\\%} & \\text{0.005886}\\\\\n",
    "\\hline\n",
    "\\end{array}\n",
    "$"
   ]
  },
  {
   "cell_type": "markdown",
   "metadata": {},
   "source": [
    "$\n",
    "\\begin{array}{|c|c|c|c|}\n",
    "\\hline\n",
    "\\text{Batch Size} & \\text{Accuracy} & \\text{F1-Score} & \\text{Time}\\\\\n",
    "\\hline\n",
    "\\text{1} & \\text{39.1\\%} & \\text{0.390864} & \\text{35m37.0s,DROPOUT = 0.7}\\\\\n",
    "\\hline\n",
    "\\text{1} & \\text{39.1\\%} & \\text{0.391055} & \\text{34m36.7s,DROPOUT = 0.5}\\\\\n",
    "\\hline\n",
    "\\text{1} & \\text{39.4\\%} & \\text{0.393540} & \\text{29m51.7s}\\\\\n",
    "\\hline\n",
    "\\text{2} & \\text{39.5\\%} & \\text{0.194795} & \\text{28m54.8s}\\\\\n",
    "\\hline\n",
    "\\text{4} & \\text{38.8\\%} & \\text{0.097285} & \\text{15m57.6s}\\\\\n",
    "\\hline\n",
    "\\text{8} & \\text{39.5\\%} & \\text{0.048986} & \\text{7m43.6s}\\\\\n",
    "\\hline\n",
    "\\text{16} & \\text{39.0\\%} & \\text{0.024100} & \\text{2m17.7s}\\\\\n",
    "\\hline\n",
    "\\text{32} & \\text{39.5\\%} & \\text{0.012279} & \\text{1m10.7s}\\\\\n",
    "\\hline\n",
    "\\text{64} & \\text{39.6\\%} & \\text{0.005928} & \\text{37.6s}\\\\\n",
    "\\hline\n",
    "\\text{128} & \\text{39.2\\%} & \\text{0.003003} & \\text{19.0s}\\\\\n",
    "\\hline\n",
    "\\end{array}\n",
    "$"
   ]
  },
  {
   "cell_type": "markdown",
   "metadata": {},
   "source": [
    "$\n",
    "\\begin{array}{|c|c|c|c|}\n",
    "\\hline\n",
    "\\text{Optimizer} & \\text{Accuracy} & \\text{F1-Score} & \\text{Time}\\\\\n",
    "\\hline\n",
    "\\text{SGD} & \\text{70.9\\%} & \\text{0.012845} & \\text{25.1s}\\\\\n",
    "\\hline\n",
    "\\text{Adadelta} & \\text{72.6\\%} & \\text{0.013035} & \\text{25.1s}\\\\\n",
    "\\hline\n",
    "\\text{Adagrad} & \\text{75.7\\%} & \\text{0.013490} & \\text{30.1s}\\\\\n",
    "\\hline\n",
    "\\text{Adam} & \\text{41.1\\%} & \\text{0.008715} & \\text{27.5s}\\\\\n",
    "\\hline\n",
    "\\text{AdamW} & \\text{72.2\\%} & \\text{0.012843} & \\text{26.7s}\\\\\n",
    "\\hline\n",
    "\\text{Adamax} & \\text{72.0\\%} & \\text{0.012983} & \\text{36.8s}\\\\\n",
    "\\hline\n",
    "\\text{ASGD} & \\text{71.9\\%} & \\text{0.012984} & \\text{25.9s}\\\\\n",
    "\\hline\n",
    "\\text{NAdam} & \\text{71.4\\%} & \\text{0.012894} & \\text{28.0s}\\\\\n",
    "\\hline\n",
    "\\text{RAdam} & \\text{68.9\\%} & \\text{0.012647} & \\text{28.3s}\\\\\n",
    "\\hline\n",
    "\\text{RMSprop} & \\text{61.3\\%} & \\text{0.010841} & \\text{25.0s}\\\\\n",
    "\\hline\n",
    "\\text{Rprop} & \\text{63.2\\%} & \\text{0.012063} & \\text{53.1s}\\\\\n",
    "\\hline\n",
    "\\end{array}\n",
    "$\n"
   ]
  }
 ],
 "metadata": {
  "kernelspec": {
   "display_name": "Python 3",
   "language": "python",
   "name": "python3"
  },
  "language_info": {
   "codemirror_mode": {
    "name": "ipython",
    "version": 3
   },
   "file_extension": ".py",
   "mimetype": "text/x-python",
   "name": "python",
   "nbconvert_exporter": "python",
   "pygments_lexer": "ipython3",
   "version": "3.10.12"
  }
 },
 "nbformat": 4,
 "nbformat_minor": 2
}
