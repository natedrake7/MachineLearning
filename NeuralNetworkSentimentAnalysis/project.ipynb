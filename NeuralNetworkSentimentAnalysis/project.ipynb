{
 "cells": [
  {
   "cell_type": "code",
   "execution_count": 12,
   "metadata": {},
   "outputs": [
    {
     "name": "stderr",
     "output_type": "stream",
     "text": [
      "[nltk_data] Downloading package stopwords to\n",
      "[nltk_data]     /home/natedrake7/nltk_data...\n",
      "[nltk_data]   Package stopwords is already up-to-date!\n",
      "[nltk_data] Downloading package punkt to /home/natedrake7/nltk_data...\n",
      "[nltk_data]   Package punkt is already up-to-date!\n"
     ]
    },
    {
     "data": {
      "text/plain": [
       "True"
      ]
     },
     "execution_count": 12,
     "metadata": {},
     "output_type": "execute_result"
    }
   ],
   "source": [
    "from gensim.models import Word2Vec\n",
    "from nltk.tokenize import word_tokenize\n",
    "import nltk\n",
    "nltk.download('stopwords')\n",
    "from nltk.corpus import stopwords\n",
    "import pandas as pd\n",
    "import numpy as np\n",
    "from sklearn.preprocessing import LabelEncoder\n",
    "from sklearn.model_selection import train_test_split\n",
    "import torch\n",
    "import torch.nn as nn \n",
    "import torch.nn.functional as F \n",
    "from torch.nn.utils.rnn import pad_sequence\n",
    "from torch.utils.data import TensorDataset, DataLoader\n",
    "from torchmetrics.classification import ConfusionMatrix,F1Score\n",
    "import unicodedata\n",
    "import spacy\n",
    "import re\n",
    "import matplotlib.pyplot as plt\n",
    "from sklearn.feature_extraction.text import TfidfVectorizer\n",
    "nltk.download('punkt')"
   ]
  },
  {
   "cell_type": "markdown",
   "metadata": {},
   "source": [
    "Pre-Processing"
   ]
  },
  {
   "cell_type": "code",
   "execution_count": 22,
   "metadata": {},
   "outputs": [],
   "source": [
    "#Read csv files\n",
    "train_set = pd.read_csv('./Data/train_set.csv')\n",
    "valid_set = pd.read_csv('./Data/valid_set.csv')\n",
    "test_set = pd.read_csv('./Data/test_set.csv')\n",
    "\n",
    "\n",
    "\n",
    "#Drop Party and New ID columns since we dont need them\n",
    "labels_to_drop = ['Party','New_ID']\n",
    "train_set = train_set.drop(columns=labels_to_drop)\n",
    "valid_set = valid_set.drop(columns=labels_to_drop)\n",
    "test_set = test_set.drop(columns=['Party'])\n",
    "\n",
    "#Make all text lowercase\n",
    "train_set['Text'] = train_set['Text'].str.lower()\n",
    "valid_set['Text'] = valid_set['Text'].str.lower()\n",
    "test_set['Text'] = test_set['Text'].str.lower()\n",
    "\n",
    "train_set['Text'] = train_set['Text'].apply(lambda x: re.sub(r'#', '', x))\n",
    "valid_set['Text'] = valid_set['Text'].apply(lambda x: re.sub(r'#', '', x))\n",
    "test_set['Text'] = test_set['Text'].apply(lambda x: re.sub(r'#', '', x))\n",
    "\n",
    "#Remove accents from all text\n",
    "def remove_accents(input_str):\n",
    "    nfkd_form = unicodedata.normalize('NFKD', input_str)\n",
    "    return ''.join([c for c in nfkd_form if not unicodedata.combining(c)])\n",
    "\n",
    "train_set['Text'] = train_set['Text'].apply(remove_accents)\n",
    "valid_set['Text'] = valid_set['Text'].apply(remove_accents)\n",
    "test_set['Text'] = test_set['Text'].apply(remove_accents)\n",
    "\n",
    "#Remove stopwords and replace them with a single space\n",
    "stop = stopwords.words('greek')\n",
    "pat = r'\\b(?:{})\\b'.format('|'.join(stop))\n",
    "\n",
    "train_set['Text'] = train_set['Text'].str.replace(pat,'',regex=True)\n",
    "valid_set['Text'] = valid_set['Text'].str.replace(pat,'',regex=True)\n",
    "test_set['Text'] = test_set['Text'].str.replace(pat,'',regex=True)\n",
    "\n",
    "#Remove multiple white spaces and replace them with a single space\n",
    "train_set['Text'] = train_set['Text'].str.replace(r'\\s+',' ',regex=True) #remove multiple whitespaces\n",
    "valid_set['Text'] = valid_set['Text'].str.replace(r'\\s+',' ',regex=True) #remove multiple whitespaces\n",
    "test_set['Text'] = test_set['Text'].str.replace(r'\\s+',' ',regex=True) #remove multiple whitespaces\n",
    "\n",
    "#Remove links and replace them with a single space\n",
    "train_set['Text'] = train_set['Text'].apply(lambda x: re.sub('https?://[A-Za-z0-9./]+','',x)) #remove links\n",
    "valid_set['Text'] = valid_set['Text'].apply(lambda x: re.sub('https?://[A-Za-z0-9./]+','',x)) #remove links\n",
    "test_set['Text'] = test_set['Text'].apply(lambda x: re.sub('https?://[A-Za-z0-9./]+','',x)) #remove links\n",
    "\n",
    "#Replace non greek words with single whitespace\n",
    "train_set['Text'] = train_set['Text'].apply(lambda x: re.sub(r'[^α-ωΑ-Ω0-9\\s]', ' ', x, flags=re.UNICODE))      \n",
    "valid_set['Text'] = valid_set['Text'].apply(lambda x: re.sub(r'[^α-ωΑ-Ω0-9\\s]', ' ', x, flags=re.UNICODE))      \n",
    "test_set['Text'] = test_set['Text'].apply(lambda x: re.sub(r'[^α-ωΑ-Ω0-9\\s]', ' ', x, flags=re.UNICODE))\n",
    "\n",
    "#Find retweets and replace them withn single whitespace\n",
    "train_set['Text'] = train_set['Text'].apply(lambda x: re.sub(r'^RT[\\s]+', '', x))\n",
    "valid_set['Text'] = valid_set['Text'].apply(lambda x: re.sub(r'^RT[\\s]+', '', x))\n",
    "test_set['Text'] = test_set['Text'].apply(lambda x: re.sub(r'^RT[\\s]+', '', x))\n",
    "\n",
    "#Load lemmatizer\n",
    "nlp = spacy.load(\"el_core_news_sm\")\n",
    "\n",
    "def lemmatize_text(text):\n",
    "    doc = nlp(text)\n",
    "    lemmatized_text = \" \".join([token.lemma_ for token in doc])\n",
    "    return lemmatized_text\n",
    "\n",
    "#Lemmatize text to replace words with their dictionary value\n",
    "train_set['Text'] = train_set['Text'].apply(lemmatize_text)\n",
    "valid_set['Text'] = valid_set['Text'].apply(lemmatize_text)\n",
    "test_set['Text'] = test_set['Text'].apply(lemmatize_text)"
   ]
  },
  {
   "cell_type": "markdown",
   "metadata": {},
   "source": [
    "Save Pre-Processed Data"
   ]
  },
  {
   "cell_type": "code",
   "execution_count": 23,
   "metadata": {},
   "outputs": [],
   "source": [
    "train_set.to_csv('processed_df',index=False)\n",
    "valid_set.to_csv('processed_valid',index=False)\n",
    "test_set.to_csv('processed_test',index=False)"
   ]
  },
  {
   "cell_type": "markdown",
   "metadata": {},
   "source": [
    "Load Pre-Processed Data"
   ]
  },
  {
   "cell_type": "code",
   "execution_count": 24,
   "metadata": {},
   "outputs": [],
   "source": [
    "train_set = pd.read_csv('processed_df')\n",
    "\n",
    "test_set = pd.read_csv('processed_test')\n",
    "\n",
    "valid_set = pd.read_csv('processed_valid')"
   ]
  },
  {
   "cell_type": "code",
   "execution_count": 3,
   "metadata": {},
   "outputs": [],
   "source": [
    "#Read csv files\n",
    "train_data = pd.read_csv('./Data/train_set.csv')\n",
    "test_data = pd.read_csv('./Data/test_set.csv')\n",
    "\n",
    "#Create Dataframes\n",
    "train_set = pd.DataFrame(train_data)\n",
    "test_set = pd.DataFrame(test_data)"
   ]
  },
  {
   "cell_type": "markdown",
   "metadata": {},
   "source": [
    "Tokenize Text and create W2V Model"
   ]
  },
  {
   "cell_type": "code",
   "execution_count": 25,
   "metadata": {},
   "outputs": [],
   "source": [
    "train_set['Tokenized_Text'] = train_set['Text'].apply(lambda x: word_tokenize(x))\n",
    "\n",
    "# Create Word2Vec models\n",
    "model = Word2Vec(sentences=train_set['Tokenized_Text'], vector_size=250,window=5,min_count=2,sg = 1,hs = 0,negative = 10)\n",
    "\n",
    "model.train(train_set['Tokenized_Text'], total_examples= len(train_set['Text']), epochs=20)\n",
    "\n",
    "# Save the model\n",
    "model.save(\"./Data/word2vec.model\")"
   ]
  },
  {
   "cell_type": "markdown",
   "metadata": {},
   "source": [
    "Load self-trained Word2Vec Model"
   ]
  },
  {
   "cell_type": "code",
   "execution_count": 26,
   "metadata": {},
   "outputs": [],
   "source": [
    "word2vec_model = Word2Vec.load('./Data/word2vec.model')"
   ]
  },
  {
   "cell_type": "markdown",
   "metadata": {},
   "source": [
    "Load pre-trained Word2Vec Model"
   ]
  },
  {
   "cell_type": "code",
   "execution_count": null,
   "metadata": {},
   "outputs": [],
   "source": [
    "word2vec_model = Word2Vec.load('./Models/word2vec.model')"
   ]
  },
  {
   "cell_type": "code",
   "execution_count": 57,
   "metadata": {},
   "outputs": [
    {
     "name": "stdout",
     "output_type": "stream",
     "text": [
      "[('αλαζονικος', 0.5175630450248718), ('κρασιος', 0.46218010783195496), ('εψαχνας', 0.459391713142395), ('βανδαλος', 0.4532196819782257), ('αποχαιρετηζω', 0.4530605673789978), ('δειχνη', 0.4384254217147827), ('κολλημενος', 0.43832316994667053), ('διστασε', 0.43790578842163086), ('μοιραιο', 0.4370492994785309), ('μαχες', 0.43514540791511536)]\n"
     ]
    }
   ],
   "source": [
    "print(word2vec_model.wv.most_similar('τσιπρας'))\n",
    "valid_set['Tokenized_Text'] = valid_set['Text'].apply(lambda x: word_tokenize(x))"
   ]
  },
  {
   "cell_type": "markdown",
   "metadata": {},
   "source": [
    "Encode Labels"
   ]
  },
  {
   "cell_type": "code",
   "execution_count": 41,
   "metadata": {},
   "outputs": [
    {
     "name": "stdout",
     "output_type": "stream",
     "text": [
      "['NEGATIVE' 'NEUTRAL' 'POSITIVE']\n",
      "[0 1 2]\n"
     ]
    }
   ],
   "source": [
    "encoder  = LabelEncoder() #initialize label encoder so we can set integer values to the label unique values\n",
    "\n",
    "X_train_labels = encoder.fit_transform(train_set['Sentiment'])\n",
    "X_valid_labels = encoder.fit_transform(valid_set['Sentiment'])\n",
    "\n",
    "print(encoder.classes_)\n",
    "print(encoder.transform(encoder.classes_))\n",
    "labels = {0 : 'NEGATIVE',1 : 'NEUTRAL',2 : 'POSITIVE'}"
   ]
  },
  {
   "cell_type": "code",
   "execution_count": 33,
   "metadata": {},
   "outputs": [],
   "source": [
    "def word_vector(tokens, size):\n",
    "    vec = np.zeros(size).reshape((1, size))\n",
    "    count = 0\n",
    "    for word in tokens:\n",
    "        try:\n",
    "            vec += word2vec_model.wv[word].reshape((1, size))\n",
    "            count += 1.\n",
    "        except KeyError:  # handling the case where the token is not in vocabulary\n",
    "            continue\n",
    "    if count != 0:\n",
    "        vec /= count\n",
    "    return vec"
   ]
  },
  {
   "cell_type": "code",
   "execution_count": 38,
   "metadata": {},
   "outputs": [
    {
     "data": {
      "text/plain": [
       "(5232, 250)"
      ]
     },
     "execution_count": 38,
     "metadata": {},
     "output_type": "execute_result"
    }
   ],
   "source": [
    "wordvec_train_arrays = np.zeros((len(train_set['Tokenized_Text']), 250)) \n",
    "wordvec_valid_arrays = np.zeros((len(valid_set['Tokenized_Text']), 250)) \n",
    "\n",
    "for i in range(len(train_set['Tokenized_Text'])):\n",
    "    wordvec_train_arrays[i,:] = word_vector(train_set['Tokenized_Text'][i], 250)\n",
    "for i in range(len(valid_set['Tokenized_Text'])):\n",
    "   wordvec_valid_arrays[i,:] = word_vector(valid_set['Tokenized_Text'][i], 250)\n"
   ]
  },
  {
   "cell_type": "code",
   "execution_count": 46,
   "metadata": {},
   "outputs": [
    {
     "data": {
      "text/plain": [
       "(36630, 250)"
      ]
     },
     "execution_count": 46,
     "metadata": {},
     "output_type": "execute_result"
    }
   ],
   "source": [
    "wordvec_train_arrays.shape"
   ]
  },
  {
   "cell_type": "markdown",
   "metadata": {},
   "source": [
    "Create Tensorflow tensors"
   ]
  },
  {
   "cell_type": "code",
   "execution_count": 80,
   "metadata": {},
   "outputs": [],
   "source": [
    "batch_size = 2\n",
    "\n",
    "#Train set\n",
    "X_train_tensor = torch.tensor(wordvec_train_arrays,dtype=torch.float)\n",
    "Labels_train_tensor = torch.tensor(X_train_labels,dtype=torch.long) #create a torch tensor for the labels from the numpy array\n",
    "Dataset = TensorDataset(X_train_tensor,Labels_train_tensor) #Create a dataset\n",
    "Train_set = DataLoader(Dataset,batch_size=batch_size,shuffle=True) #Create the train set\n",
    "\n",
    "\n",
    "#Val set\n",
    "X_val_tensor = torch.tensor(wordvec_valid_arrays,dtype=torch.float)\n",
    "Labels_val_tensor = torch.tensor(X_valid_labels,dtype=torch.long) #create a torch tensor for the labels from the numpy array\n",
    "Dataset = TensorDataset(X_val_tensor,Labels_val_tensor) #Create a dataset\n",
    "Validation_set = DataLoader(Dataset,batch_size=batch_size,shuffle=True) #Create the validation set"
   ]
  },
  {
   "cell_type": "markdown",
   "metadata": {},
   "source": [
    "Set Gpu Or Cpu"
   ]
  },
  {
   "cell_type": "code",
   "execution_count": 48,
   "metadata": {},
   "outputs": [
    {
     "name": "stdout",
     "output_type": "stream",
     "text": [
      "Device = cuda\n"
     ]
    }
   ],
   "source": [
    "if torch.cuda.is_available(): #if nvidia gpu is available\n",
    "   device=\"cuda\" #set devide to cuda since GPUs are much faster at deep learning\n",
    "else: \n",
    "   device=\"cpu\" #else set CPU\n",
    "print(\"Device =\",device)"
   ]
  },
  {
   "cell_type": "markdown",
   "metadata": {},
   "source": [
    "FeedForward Neural Network"
   ]
  },
  {
   "cell_type": "code",
   "execution_count": 81,
   "metadata": {},
   "outputs": [],
   "source": [
    "class FeedForwardNeuralNetwork(nn.Module):\n",
    "    def __init__(self, dropout_rate= 0.5): #initialize feedforward network\n",
    "        super(FeedForwardNeuralNetwork, self).__init__()\n",
    "        self.linear1 = nn.Linear(250, 128) # You can also try include activation functions to check how your model will behave\n",
    "        self.dropout1 = nn.Dropout(dropout_rate) #set for each fully connected layer the dropout rate\n",
    "        self.linear2 = nn.Linear(128, 64)\n",
    "        self.dropout2 = nn.Dropout(dropout_rate) #set for each fully connected layer the dropout rate\n",
    "        self.linear3 = nn.Linear(64, 32)\n",
    "        self.dropout3 = nn.Dropout(dropout_rate) #set for each fully connected layer the dropout rate\n",
    "        self.linear4 = nn.Linear(32, 3)\n",
    "        \n",
    "    def forward(self, x):\n",
    "        h1 = F.relu(self.linear1(x))\n",
    "        h2 = F.relu(self.linear2(h1))\n",
    "        h3 = F.relu(self.linear3(h2))\n",
    "        out = self.linear4(h3)\n",
    "        return out\n",
    "    \n",
    "model = FeedForwardNeuralNetwork(dropout_rate = 0.5).to(device) #Create a feedforward network instance"
   ]
  },
  {
   "cell_type": "markdown",
   "metadata": {},
   "source": [
    "Train Function"
   ]
  },
  {
   "cell_type": "code",
   "execution_count": 85,
   "metadata": {},
   "outputs": [],
   "source": [
    "def Train(dataLoader,model,loss_fn,optimizer):\n",
    "    losses = []\n",
    "    size = len(dataLoader.dataset) #Get the size of the dataset\n",
    "    f1 = 0 #declare f1 score to 0\n",
    "    f1_score = F1Score(task='multiclass',num_classes=3,average='weighted').to(device)\n",
    "    \n",
    "    for batch, (X,y) in enumerate(dataLoader): #iterate all the dataset\n",
    "\n",
    "        X = X.to(device) #Load variables to GPU\n",
    "        y = y.to(device) #Load variables to GPU\n",
    "        \n",
    "        pred = model(X) #predict the label\n",
    "\n",
    "        loss = loss_fn(pred,y) #find the loss between the prediction and the true label\n",
    "        losses.append(loss.item())\n",
    "\n",
    "        #BackPropagation\n",
    "        optimizer.zero_grad() #reset all the gradients\n",
    "\n",
    "        loss.backward()\n",
    "        \n",
    "        optimizer.step() #perform a step\n",
    "\n",
    "        f1 += f1_score(pred.argmax(1),y) #calculate the f1 score\n",
    "\n",
    "    f1 /= size #find the average f1 score    \n",
    "    return f1, sum(losses)/len(losses)"
   ]
  },
  {
   "cell_type": "markdown",
   "metadata": {},
   "source": [
    "Validation Function"
   ]
  },
  {
   "cell_type": "code",
   "execution_count": 51,
   "metadata": {},
   "outputs": [],
   "source": [
    "def Validation(dataloader,model,loss_fn):\n",
    "    size = len(dataloader.dataset) #get the size of the dataset\n",
    "    f1 = 0 #declare f1 score to 0\n",
    "    f1_score = F1Score(task='multiclass',num_classes=3,average='weighted').to(device)\n",
    "    losses = []\n",
    "\n",
    "    with torch.no_grad(): #disable gradient caclulation since we are validating not training\n",
    "        for X,y in dataloader:\n",
    "\n",
    "            X = X.to(device)#Load to GPU\n",
    "            y = y.to(device) #Load variables to GPU\n",
    "        \n",
    "            pred = model(X) #predict the label\n",
    "            \n",
    "            loss = loss_fn(pred,y) #find the loss between the prediction and the true label\n",
    "            losses.append(loss.item())\n",
    "            f1 += f1_score(pred.argmax(1),y) #calculate the f1 score\n",
    "    f1 /= size #find the average f1 score\n",
    "    return f1, (sum(losses)/len(losses))"
   ]
  },
  {
   "cell_type": "markdown",
   "metadata": {},
   "source": [
    "Test Function"
   ]
  },
  {
   "cell_type": "code",
   "execution_count": 52,
   "metadata": {},
   "outputs": [],
   "source": [
    "def Test(dataloader,model,loss_fn):\n",
    "    size = len(dataloader.dataset) #get the size of the dataset\n",
    "    test_loss,correct,f1 = 0,0,0 #declare variables\n",
    "    f1_score = F1Score(task='multiclass',num_classes=3,average='weighted').to(device) \n",
    "\n",
    "    with torch.no_grad(): #disable gradient caclulation since we are testing not training\n",
    "        for X,y in dataloader:\n",
    "\n",
    "            X = X.to(device) #Load to GPU\n",
    "            y = y.to(device) #Load to GPU\n",
    "\n",
    "            pred = model(X) #predict the label\n",
    "\n",
    "            test_loss += loss_fn(pred,y).item() #find the loss_fn\n",
    "            \n",
    "            correct += (pred.argmax(1) == y).type(torch.float).sum().item() #find the accuracy\n",
    "            f1 += f1_score(pred.argmax(1),y) #find the f1 score\n",
    "    \n",
    "    test_loss /= size #compute the average loss\n",
    "    correct /= size #average accuracy\n",
    "    f1 /= size #average f1 score\n",
    "    confmat = ConfusionMatrix('multiclass',num_classes=3).to(device)\n",
    "    confusion_matrix = confmat(pred,y) #find the confusion matrix\n",
    "    print(f\"Test Error: \\n Accuracy: {(100*correct):>0.1f}%, Avg loss: {test_loss:>8f},Avg F1-Score: {f1:>8f}\\n\") #print statistics\n",
    "    print(f\"Confusion Matrix \\n: {confusion_matrix}\\n\") #print confusion matrix"
   ]
  },
  {
   "cell_type": "markdown",
   "metadata": {},
   "source": [
    "Learning Curve Function"
   ]
  },
  {
   "cell_type": "code",
   "execution_count": 64,
   "metadata": {},
   "outputs": [],
   "source": [
    "def plot_loss_learning_curve(train_losses, val_losses):\n",
    "    epochs = range(1, len(train_losses) + 1)\n",
    "\n",
    "    plt.plot(epochs,train_losses, label='Training Loss')\n",
    "    plt.plot(epochs,val_losses, label='Validation Loss')\n",
    "\n",
    "    plt.xlabel('Epoch')\n",
    "    plt.ylabel('Loss')\n",
    "\n",
    "    plt.legend()\n",
    "\n",
    "    plt.title('Learning Curve')\n",
    "    \n",
    "    plt.show()\n",
    "\n",
    "def plot_f1_learning_curve(train_f1, val_f1):\n",
    "    epochs = range(1, len(train_f1) + 1)\n",
    "\n",
    "    plt.plot(epochs,train_f1, label='Training F1')\n",
    "    plt.plot(epochs,val_f1, label='Validation F1')\n",
    "\n",
    "    plt.xlabel('Epoch')\n",
    "    plt.ylabel('F1-Score')\n",
    "\n",
    "    plt.legend()\n",
    "\n",
    "    plt.title('Learning Curve')\n",
    "    \n",
    "    plt.show()"
   ]
  },
  {
   "cell_type": "markdown",
   "metadata": {},
   "source": [
    "Experimenting"
   ]
  },
  {
   "cell_type": "code",
   "execution_count": 86,
   "metadata": {},
   "outputs": [
    {
     "name": "stdout",
     "output_type": "stream",
     "text": [
      "Adjusting learning rate of group 0 to 1.0000e-04.\n",
      "Adjusting learning rate of group 0 to 1.0000e-04.\n",
      "Epoch 1\n",
      "-------------------------------\n",
      "Adjusting learning rate of group 0 to 9.9975e-05.\n",
      "Adjusting learning rate of group 0 to 8.9978e-05.\n",
      "Epoch 2\n",
      "-------------------------------\n",
      "Adjusting learning rate of group 0 to 8.9911e-05.\n",
      "Adjusting learning rate of group 0 to 8.0920e-05.\n",
      "Epoch 3\n",
      "-------------------------------\n",
      "Adjusting learning rate of group 0 to 8.0820e-05.\n",
      "Adjusting learning rate of group 0 to 7.2738e-05.\n",
      "Epoch 4\n",
      "-------------------------------\n",
      "Adjusting learning rate of group 0 to 7.2613e-05.\n",
      "Adjusting learning rate of group 0 to 6.5351e-05.\n",
      "Epoch 5\n",
      "-------------------------------\n",
      "Adjusting learning rate of group 0 to 6.5206e-05.\n",
      "Adjusting learning rate of group 0 to 5.8686e-05.\n",
      "Epoch 6\n",
      "-------------------------------\n",
      "Adjusting learning rate of group 0 to 5.8526e-05.\n",
      "Adjusting learning rate of group 0 to 5.2673e-05.\n",
      "Epoch 7\n",
      "-------------------------------\n",
      "Adjusting learning rate of group 0 to 5.2504e-05.\n",
      "Adjusting learning rate of group 0 to 4.7254e-05.\n",
      "Epoch 8\n",
      "-------------------------------\n",
      "Adjusting learning rate of group 0 to 4.7078e-05.\n",
      "Adjusting learning rate of group 0 to 4.2371e-05.\n",
      "Epoch 9\n",
      "-------------------------------\n",
      "Adjusting learning rate of group 0 to 4.2192e-05.\n",
      "Adjusting learning rate of group 0 to 3.7973e-05.\n",
      "Epoch 10\n",
      "-------------------------------\n",
      "Adjusting learning rate of group 0 to 3.7794e-05.\n",
      "Adjusting learning rate of group 0 to 3.4015e-05.\n",
      "Epoch 11\n",
      "-------------------------------\n",
      "Adjusting learning rate of group 0 to 3.3837e-05.\n",
      "Adjusting learning rate of group 0 to 3.0453e-05.\n",
      "Epoch 12\n",
      "-------------------------------\n",
      "Adjusting learning rate of group 0 to 3.0279e-05.\n",
      "Adjusting learning rate of group 0 to 2.7251e-05.\n",
      "Epoch 13\n",
      "-------------------------------\n",
      "Adjusting learning rate of group 0 to 2.7082e-05.\n",
      "Adjusting learning rate of group 0 to 2.4373e-05.\n",
      "Epoch 14\n",
      "-------------------------------\n",
      "Adjusting learning rate of group 0 to 2.4209e-05.\n",
      "Adjusting learning rate of group 0 to 2.1788e-05.\n",
      "Epoch 15\n",
      "-------------------------------\n",
      "Adjusting learning rate of group 0 to 2.1630e-05.\n",
      "Adjusting learning rate of group 0 to 1.9467e-05.\n",
      "Epoch 16\n",
      "-------------------------------\n",
      "Adjusting learning rate of group 0 to 1.9316e-05.\n",
      "Adjusting learning rate of group 0 to 1.7384e-05.\n",
      "Best Model computed by finding the model with the highest f1 score on the validation set: 0.177147\n",
      "\n"
     ]
    },
    {
     "data": {
      "image/png": "[encoded data removed]",
      "text/plain": [
       "<Figure size 640x480 with 1 Axes>"
      ]
     },
     "metadata": {},
     "output_type": "display_data"
    },
    {
     "data": {
      "image/png": "[encoded data removed]",
      "text/plain": [
       "<Figure size 640x480 with 1 Axes>"
      ]
     },
     "metadata": {},
     "output_type": "display_data"
    },
    {
     "name": "stdout",
     "output_type": "stream",
     "text": [
      "Test Error: \n",
      " Accuracy: 35.7%, Avg loss: 0.549154,Avg F1-Score: 0.177975\n",
      "\n",
      "Confusion Matrix \n",
      ": tensor([[0, 0, 0],\n",
      "        [2, 0, 0],\n",
      "        [0, 0, 0]], device='cuda:0')\n",
      "\n"
     ]
    }
   ],
   "source": [
    "loss_fn = nn.CrossEntropyLoss()\n",
    "best_f1 = 0 #initialize variables\n",
    "learning_rate = 1e-4\n",
    "patience = 0\n",
    "epochs_count = 30\n",
    "patience_tol = 5\n",
    "f1_train_scores = []\n",
    "f1_val_scores = []\n",
    "train_losses = []\n",
    "val_losses = []\n",
    "\n",
    "#optimizer = torch.optim.SGD(model.parameters(),lr=learning_rate,weight_decay=1e-7) #initialize optimizer ,weight_decay=1e-7\n",
    "\n",
    "optimizer = torch.optim.SGD(model.parameters(),lr=learning_rate,weight_decay=1e-7) #initialize optimizer\n",
    "scheduler1 = torch.optim.lr_scheduler.CosineAnnealingLR(optimizer,verbose=True,T_max=100) #initialize first scheduler\n",
    "scheduler2 = torch.optim.lr_scheduler.ExponentialLR(optimizer,gamma=0.9,verbose=True) #and second scheduler\n",
    "scheduler = torch.optim.lr_scheduler.ChainedScheduler([scheduler1,scheduler2])\n",
    "\n",
    "for t in range(epochs_count): #iterate over the number of epochs\n",
    "    print(f\"Epoch {t+1}\\n-------------------------------\")\n",
    "    torch.cuda.synchronize()\n",
    "\n",
    "    f1_train,train_loss = Train(Train_set,model,loss_fn,optimizer) #train the convo network\n",
    "\n",
    "    f1_train_scores.append(f1_train.cpu())\n",
    "    train_losses.append(train_loss)\n",
    "    f1_val,val_loss = Validation(Validation_set,model,loss_fn) #find the current f1 score\n",
    "\n",
    "    f1_val_scores.append(f1_val.cpu())\n",
    "    val_losses.append(val_loss)\n",
    "\n",
    "    scheduler.step()\n",
    "\n",
    "    if f1_val > best_f1: #if it the best one yet\n",
    "        best_f1 = f1_val #set it as the best one\n",
    "        best_model = model #this is the best model yet\n",
    "        patience = 0\n",
    "    else:\n",
    "        patience+=1 #else increment patience\n",
    "    if patience == patience_tol: #if we have iterated over a number of epochs and still the model we found is the best one\n",
    "        break #break from the iteration\n",
    "\n",
    "print(f\"Best Model computed by finding the model with the highest f1 score on the validation set: {best_f1:>8f}\\n\")\n",
    "plot_loss_learning_curve(train_losses=train_losses,val_losses=val_losses)\n",
    "plot_f1_learning_curve(train_f1=f1_train_scores,val_f1=f1_val_scores)\n",
    "Test(Validation_set,best_model,loss_fn) #print the best model found"
   ]
  },
  {
   "cell_type": "markdown",
   "metadata": {},
   "source": [
    "Final Training-Validation"
   ]
  },
  {
   "cell_type": "code",
   "execution_count": 15,
   "metadata": {},
   "outputs": [
    {
     "name": "stdout",
     "output_type": "stream",
     "text": [
      "Adjusting learning rate of group 0 to 1.0000e-04.\n",
      "Adjusting learning rate of group 0 to 1.0000e-04.\n",
      "Epoch 1\n",
      "-------------------------------\n",
      "loss: 1.111701  [    0/25641]\n",
      "loss: 1.106695  [ 1600/25641]\n",
      "loss: 1.106623  [ 3200/25641]\n",
      "loss: 1.087057  [ 4800/25641]\n",
      "loss: 1.160367  [ 6400/25641]\n",
      "loss: 1.096786  [ 8000/25641]\n",
      "loss: 1.121040  [ 9600/25641]\n",
      "loss: 1.087074  [11200/25641]\n",
      "loss: 1.101559  [12800/25641]\n",
      "loss: 1.125561  [14400/25641]\n",
      "loss: 1.068013  [16000/25641]\n",
      "loss: 1.068239  [17600/25641]\n",
      "loss: 1.082518  [19200/25641]\n",
      "loss: 1.106146  [20800/25641]\n",
      "loss: 1.101285  [22400/25641]\n",
      "loss: 1.101339  [24000/25641]\n",
      "loss: 1.110640  [25600/25641]\n",
      "Adjusting learning rate of group 0 to 9.9975e-05.\n",
      "Adjusting learning rate of group 0 to 8.9978e-05.\n",
      "Epoch 2\n",
      "-------------------------------\n",
      "loss: 1.161860  [    0/25641]\n",
      "loss: 1.115155  [ 1600/25641]\n",
      "loss: 1.119795  [ 3200/25641]\n",
      "loss: 1.110472  [ 4800/25641]\n",
      "loss: 1.110489  [ 6400/25641]\n",
      "loss: 1.151567  [ 8000/25641]\n",
      "loss: 1.055507  [ 9600/25641]\n",
      "loss: 1.105643  [11200/25641]\n",
      "loss: 1.082962  [12800/25641]\n",
      "loss: 1.101076  [14400/25641]\n",
      "loss: 1.119077  [16000/25641]\n",
      "loss: 1.127845  [17600/25641]\n",
      "loss: 1.069842  [19200/25641]\n",
      "loss: 1.109885  [20800/25641]\n",
      "loss: 1.096569  [22400/25641]\n",
      "loss: 1.114158  [24000/25641]\n",
      "loss: 1.096569  [25600/25641]\n",
      "Adjusting learning rate of group 0 to 8.9911e-05.\n",
      "Adjusting learning rate of group 0 to 8.0920e-05.\n",
      "Epoch 3\n",
      "-------------------------------\n",
      "loss: 1.105402  [    0/25641]\n",
      "loss: 1.100913  [ 1600/25641]\n",
      "loss: 1.079105  [ 3200/25641]\n",
      "loss: 1.083439  [ 4800/25641]\n",
      "loss: 1.109557  [ 6400/25641]\n",
      "loss: 1.096534  [ 8000/25641]\n",
      "loss: 1.100851  [ 9600/25641]\n",
      "loss: 1.070760  [11200/25641]\n",
      "loss: 1.122171  [12800/25641]\n",
      "loss: 1.139150  [14400/25641]\n",
      "loss: 1.109334  [16000/25641]\n",
      "loss: 1.113492  [17600/25641]\n",
      "loss: 1.071101  [19200/25641]\n",
      "loss: 1.083835  [20800/25641]\n",
      "loss: 1.117475  [22400/25641]\n",
      "loss: 1.108941  [24000/25641]\n",
      "loss: 1.117334  [25600/25641]\n",
      "Adjusting learning rate of group 0 to 8.0820e-05.\n",
      "Adjusting learning rate of group 0 to 7.2738e-05.\n",
      "Epoch 4\n",
      "-------------------------------\n",
      "loss: 1.100746  [    0/25641]\n",
      "loss: 1.088113  [ 1600/25641]\n",
      "loss: 1.079835  [ 3200/25641]\n",
      "loss: 1.117246  [ 4800/25641]\n",
      "loss: 1.100635  [ 6400/25641]\n",
      "loss: 1.121236  [ 8000/25641]\n",
      "loss: 1.084138  [ 9600/25641]\n",
      "loss: 1.108743  [11200/25641]\n",
      "loss: 1.084175  [12800/25641]\n",
      "loss: 1.108688  [14400/25641]\n",
      "loss: 1.092359  [16000/25641]\n",
      "loss: 1.124777  [17600/25641]\n",
      "loss: 1.108570  [19200/25641]\n",
      "loss: 1.092442  [20800/25641]\n",
      "loss: 1.088315  [22400/25641]\n",
      "loss: 1.084318  [24000/25641]\n",
      "loss: 1.080390  [25600/25641]\n",
      "Adjusting learning rate of group 0 to 7.2613e-05.\n",
      "Adjusting learning rate of group 0 to 6.5351e-05.\n",
      "Epoch 5\n",
      "-------------------------------\n",
      "loss: 1.068407  [    0/25641]\n",
      "loss: 1.096352  [ 1600/25641]\n",
      "loss: 1.088433  [ 3200/25641]\n",
      "loss: 1.112416  [ 4800/25641]\n",
      "loss: 1.108442  [ 6400/25641]\n",
      "loss: 1.108282  [ 8000/25641]\n",
      "loss: 1.092523  [ 9600/25641]\n",
      "loss: 1.100321  [11200/25641]\n",
      "loss: 1.120000  [12800/25641]\n",
      "loss: 1.092573  [14400/25641]\n",
      "loss: 1.108098  [16000/25641]\n",
      "loss: 1.111786  [17600/25641]\n",
      "loss: 1.100363  [19200/25641]\n",
      "loss: 1.108142  [20800/25641]\n",
      "loss: 1.100219  [22400/25641]\n",
      "loss: 1.088687  [24000/25641]\n",
      "loss: 1.107918  [25600/25641]\n",
      "Adjusting learning rate of group 0 to 6.5206e-05.\n",
      "Adjusting learning rate of group 0 to 5.8686e-05.\n",
      "Epoch 6\n",
      "-------------------------------\n",
      "loss: 1.084906  [    0/25641]\n",
      "loss: 1.084819  [ 1600/25641]\n",
      "loss: 1.115577  [ 3200/25641]\n",
      "loss: 1.126952  [ 4800/25641]\n",
      "loss: 1.119359  [ 6400/25641]\n",
      "loss: 1.164931  [ 8000/25641]\n",
      "loss: 1.126685  [ 9600/25641]\n",
      "loss: 1.119094  [11200/25641]\n",
      "loss: 1.122906  [12800/25641]\n",
      "loss: 1.077559  [14400/25641]\n",
      "loss: 1.103944  [16000/25641]\n",
      "loss: 1.073910  [17600/25641]\n",
      "loss: 1.096288  [19200/25641]\n",
      "loss: 1.103767  [20800/25641]\n",
      "loss: 1.092719  [22400/25641]\n",
      "loss: 1.081493  [24000/25641]\n",
      "loss: 1.114912  [25600/25641]\n",
      "Adjusting learning rate of group 0 to 5.8526e-05.\n",
      "Adjusting learning rate of group 0 to 5.2673e-05.\n",
      "Epoch 7\n",
      "-------------------------------\n",
      "loss: 1.100055  [    0/25641]\n",
      "loss: 1.092721  [ 1600/25641]\n",
      "loss: 1.114728  [ 3200/25641]\n",
      "loss: 1.103685  [ 4800/25641]\n",
      "loss: 1.111108  [ 6400/25641]\n",
      "loss: 1.088966  [ 8000/25641]\n",
      "loss: 1.107316  [ 9600/25641]\n",
      "loss: 1.110992  [11200/25641]\n",
      "loss: 1.107225  [12800/25641]\n",
      "loss: 1.078245  [14400/25641]\n",
      "loss: 1.096379  [16000/25641]\n",
      "loss: 1.099932  [17600/25641]\n",
      "loss: 1.114395  [19200/25641]\n",
      "loss: 1.074823  [20800/25641]\n",
      "loss: 1.125065  [22400/25641]\n",
      "loss: 1.082007  [24000/25641]\n",
      "loss: 1.103473  [25600/25641]\n",
      "Adjusting learning rate of group 0 to 5.2504e-05.\n",
      "Adjusting learning rate of group 0 to 4.7254e-05.\n",
      "Epoch 8\n",
      "-------------------------------\n",
      "loss: 1.110750  [    0/25641]\n",
      "loss: 1.096273  [ 1600/25641]\n",
      "loss: 1.096269  [ 3200/25641]\n",
      "loss: 1.075030  [ 4800/25641]\n",
      "loss: 1.074932  [ 6400/25641]\n",
      "loss: 1.124928  [ 8000/25641]\n",
      "loss: 1.100151  [ 9600/25641]\n",
      "loss: 1.096383  [11200/25641]\n",
      "loss: 1.096384  [12800/25641]\n",
      "loss: 1.096383  [14400/25641]\n",
      "loss: 1.078896  [16000/25641]\n",
      "loss: 1.134970  [17600/25641]\n",
      "loss: 1.082433  [19200/25641]\n",
      "loss: 1.110418  [20800/25641]\n",
      "loss: 1.085926  [22400/25641]\n",
      "loss: 1.124245  [24000/25641]\n",
      "loss: 1.099813  [25600/25641]\n",
      "Adjusting learning rate of group 0 to 4.7078e-05.\n",
      "Adjusting learning rate of group 0 to 4.2371e-05.\n",
      "Best Model computed by finding the model with the highest f1 score on the validation set: 0.011221\n",
      "\n"
     ]
    },
    {
     "data": {
      "image/png": "[encoded data removed]",
      "text/plain": [
       "<Figure size 640x480 with 1 Axes>"
      ]
     },
     "metadata": {},
     "output_type": "display_data"
    },
    {
     "name": "stdout",
     "output_type": "stream",
     "text": [
      "Test Error: \n",
      " Accuracy: 33.3%, Avg loss: 0.068831,Avg F1-Score: 0.011132\n",
      "\n",
      "Confusion Matrix \n",
      ": tensor([[0, 0, 3],\n",
      "        [0, 0, 8],\n",
      "        [0, 0, 2]], device='cuda:0')\n",
      "\n"
     ]
    }
   ],
   "source": [
    "loss_fn = nn.CrossEntropyLoss()\n",
    "best_f1 = 0 #initialize variables\n",
    "learning_rate = 1e-4\n",
    "patience = 0\n",
    "epochs_count = 30\n",
    "patience_tol = 5\n",
    "train_losses = []\n",
    "val_losses = []\n",
    "\n",
    "#optimizer = torch.optim.SGD(model.parameters(),lr=learning_rate,weight_decay=1e-7) #initialize optimizer ,weight_decay=1e-7\n",
    "\n",
    "optimizer = torch.optim.SGD(model.parameters(),lr=learning_rate,weight_decay=1e-7) #initialize optimizer\n",
    "scheduler1 = torch.optim.lr_scheduler.CosineAnnealingLR(optimizer,verbose=True,T_max=100) #initialize first scheduler\n",
    "scheduler2 = torch.optim.lr_scheduler.ExponentialLR(optimizer,gamma=0.9,verbose=True) #and second scheduler\n",
    "\n",
    "scheduler = torch.optim.lr_scheduler.ChainedScheduler([scheduler1,scheduler2])\n",
    "\n",
    "for t in range(epochs_count): #iterate over the number of epochs\n",
    "    print(f\"Epoch {t+1}\\n-------------------------------\")\n",
    "    torch.cuda.synchronize()\n",
    "    train_losses.append(Train(Train_set,model,loss_fn,optimizer)) #train the convo network\n",
    "    f1,val_loss = Validation(Validation_set,model,loss_fn) #find the current f1 score\n",
    "\n",
    "    scheduler.step()\n",
    "    \n",
    "    val_losses.append(val_loss)\n",
    "\n",
    "    if f1 > best_f1: #if it the best one yet\n",
    "        best_f1 = f1 #set it as the best one\n",
    "        best_model = model #this is the best model yet\n",
    "        patience = 0\n",
    "    else:\n",
    "        patience+=1 #else increment patience\n",
    "    if patience == patience_tol: #if we have iterated over a number of epochs and still the model we found is the best one\n",
    "        break #break from the iteration\n",
    "print(f\"Best Model computed by finding the model with the highest f1 score on the validation set: {best_f1:>8f}\\n\")\n",
    "plot_learning_curve(train_losses=train_losses,val_losses=val_losses)\n",
    "Test(Validation_set,best_model,loss_fn) #print the best model found"
   ]
  },
  {
   "cell_type": "markdown",
   "metadata": {},
   "source": [
    "$\n",
    "\\begin{array}{|c|c|c|c|}\n",
    "\\hline\n",
    "\\text{Optimizer} & \\text{Accuracy} & \\text{F1-Score} & \\text{Time}\\\\\n",
    "\\hline\n",
    "\\text{SGD} & \\text{70.9\\%} & \\text{0.012845} & \\text{25.1s}\\\\\n",
    "\\hline\n",
    "\\text{Adadelta} & \\text{72.6\\%} & \\text{0.013035} & \\text{25.1s}\\\\\n",
    "\\hline\n",
    "\\text{Adagrad} & \\text{75.7\\%} & \\text{0.013490} & \\text{30.1s}\\\\\n",
    "\\hline\n",
    "\\text{Adam} & \\text{41.1\\%} & \\text{0.008715} & \\text{27.5s}\\\\\n",
    "\\hline\n",
    "\\text{AdamW} & \\text{72.2\\%} & \\text{0.012843} & \\text{26.7s}\\\\\n",
    "\\hline\n",
    "\\text{Adamax} & \\text{72.0\\%} & \\text{0.012983} & \\text{36.8s}\\\\\n",
    "\\hline\n",
    "\\text{ASGD} & \\text{71.9\\%} & \\text{0.012984} & \\text{25.9s}\\\\\n",
    "\\hline\n",
    "\\text{NAdam} & \\text{71.4\\%} & \\text{0.012894} & \\text{28.0s}\\\\\n",
    "\\hline\n",
    "\\text{RAdam} & \\text{68.9\\%} & \\text{0.012647} & \\text{28.3s}\\\\\n",
    "\\hline\n",
    "\\text{RMSprop} & \\text{61.3\\%} & \\text{0.010841} & \\text{25.0s}\\\\\n",
    "\\hline\n",
    "\\text{Rprop} & \\text{63.2\\%} & \\text{0.012063} & \\text{53.1s}\\\\\n",
    "\\hline\n",
    "\\end{array}\n",
    "$\n"
   ]
  }
 ],
 "metadata": {
  "kernelspec": {
   "display_name": "Python 3",
   "language": "python",
   "name": "python3"
  },
  "language_info": {
   "codemirror_mode": {
    "name": "ipython",
    "version": 3
   },
   "file_extension": ".py",
   "mimetype": "text/x-python",
   "name": "python",
   "nbconvert_exporter": "python",
   "pygments_lexer": "ipython3",
   "version": "3.10.12"
  }
 },
 "nbformat": 4,
 "nbformat_minor": 2
}
